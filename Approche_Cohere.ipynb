{
 "cells": [
  {
   "cell_type": "code",
   "execution_count": 161,
   "metadata": {},
   "outputs": [],
   "source": [
    "import json\n",
    "import re\n",
    "import pandas as pd\n",
    "import numpy as np\n",
    "import pandas as pd\n",
    "from sklearn.model_selection import train_test_split\n",
    "from sklearn.metrics import classification_report, confusion_matrix\n",
    "import cohere\n",
    "from cohere import ClassifyExample\n",
    "import matplotlib.pyplot as plt\n",
    "import seaborn as sns\n",
    "from sklearn.metrics import f1_score,precision_score, recall_score"
   ]
  },
  {
   "cell_type": "code",
   "execution_count": 162,
   "metadata": {},
   "outputs": [],
   "source": [
    "def extract_info(json_file):\n",
    "\n",
    "    data_list = []\n",
    "    # Charger le fichier JSON\n",
    "    with open(json_file, 'r') as f:\n",
    "        data = json.load(f)\n",
    "\n",
    "    # Parcourir chaque élément du JSON\n",
    "    for img, info in data.items():\n",
    "        # Diviser les informations en lignes en séparant par \"\\n\"\n",
    "        lines = info.split(\"\\n\")\n",
    "\n",
    "        # Parcourir chaque ligne\n",
    "        for line in lines:\n",
    "            # Retirer les éléments vides résultant de la division\n",
    "            elements = re.findall(r\"[\\S\\s]*?(?=Ⓟ|Ⓞ|Ⓕ|Ⓜ|Ⓐ|Ⓒ|Ⓚ|Ⓑ|Ⓘ|Ⓗ|Ⓔ|$)\", line)\n",
    "            elements = [element.strip() for element in elements if element.strip()]\n",
    "            target, nom, prenom, profession, lien, age, annee, nationalite, ville, biz = \"\", \"\", \"\", \"\", \"\", \"\", \"\", \"\", \"\", \"\"\n",
    "            for element in elements:\n",
    "                # Supprimer les logos de la colonne \"nom\"\n",
    "                #element = element.replace('Ⓞ', '').replace('Ⓟ', '')  # Supprimer les logos Ⓞ et Ⓟ\n",
    "                if 'Ⓟ' in element:\n",
    "                    target=True\n",
    "                    nom=element.replace('Ⓟ', '')\n",
    "                elif 'Ⓞ' in element:\n",
    "                    target=False\n",
    "                    nom=element.replace('Ⓞ', '')\n",
    "                elif 'Ⓕ' in element:\n",
    "                    prenom=element.replace('Ⓕ', '')\n",
    "                elif 'Ⓜ' in element:\n",
    "                    profession=element.replace('Ⓜ', '')\n",
    "                elif 'Ⓐ' in element:\n",
    "                    age=element.replace('Ⓐ', '')\n",
    "                elif 'Ⓚ' in element:\n",
    "                    nationalite=element.replace('Ⓚ', '')\n",
    "                elif 'Ⓑ' in element:\n",
    "                    annee=element.replace('Ⓑ', '')\n",
    "                elif 'Ⓘ' in element:\n",
    "                    ville=element.replace('Ⓘ', '')\n",
    "                elif 'Ⓗ' in element or 'Ⓒ' in element:\n",
    "                    if 'Ⓛ' in element:\n",
    "                        element=element.replace('Ⓗ', '').replace('Ⓒ', '')\n",
    "                        lien=element.split('Ⓛ', 1)[0]\n",
    "                    else:\n",
    "                        lien=element.replace('Ⓗ', '').replace('Ⓒ', '') \n",
    "                elif 'Ⓔ' in element:\n",
    "                    biz=element.replace('Ⓔ', '')\n",
    "\n",
    "                    \n",
    "            # Stocker les données dans un dictionnaire\n",
    "            data_dict = {'Target': target, 'Nom': nom, 'Prenom': prenom, 'Profession': profession,\n",
    "                            'Relation': lien, 'Age': age,'Année':annee, 'Nationalité': nationalite, 'Ville': ville, 'Plus':biz}\n",
    "            # Ajouter le dictionnaire à la liste\n",
    "            data_list.append(data_dict)\n",
    "\n",
    "    return pd.DataFrame(data_list)"
   ]
  },
  {
   "cell_type": "code",
   "execution_count": 163,
   "metadata": {},
   "outputs": [
    {
     "data": {
      "text/html": [
       "<div>\n",
       "<style scoped>\n",
       "    .dataframe tbody tr th:only-of-type {\n",
       "        vertical-align: middle;\n",
       "    }\n",
       "\n",
       "    .dataframe tbody tr th {\n",
       "        vertical-align: top;\n",
       "    }\n",
       "\n",
       "    .dataframe thead th {\n",
       "        text-align: right;\n",
       "    }\n",
       "</style>\n",
       "<table border=\"1\" class=\"dataframe\">\n",
       "  <thead>\n",
       "    <tr style=\"text-align: right;\">\n",
       "      <th></th>\n",
       "      <th>Target</th>\n",
       "      <th>Nom</th>\n",
       "      <th>Prenom</th>\n",
       "      <th>Profession</th>\n",
       "      <th>Relation</th>\n",
       "      <th>Age</th>\n",
       "      <th>Année</th>\n",
       "      <th>Nationalité</th>\n",
       "      <th>Ville</th>\n",
       "      <th>Plus</th>\n",
       "    </tr>\n",
       "  </thead>\n",
       "  <tbody>\n",
       "    <tr>\n",
       "      <th>0</th>\n",
       "      <td>False</td>\n",
       "      <td>Breton</td>\n",
       "      <td>Cyrille</td>\n",
       "      <td>menuisier</td>\n",
       "      <td>Garçon</td>\n",
       "      <td>25</td>\n",
       "      <td></td>\n",
       "      <td>française</td>\n",
       "      <td></td>\n",
       "      <td></td>\n",
       "    </tr>\n",
       "    <tr>\n",
       "      <th>1</th>\n",
       "      <td>True</td>\n",
       "      <td>Ferazzi</td>\n",
       "      <td>Auguste</td>\n",
       "      <td>vitrier</td>\n",
       "      <td>Garçon</td>\n",
       "      <td>30</td>\n",
       "      <td></td>\n",
       "      <td>Piémontaise</td>\n",
       "      <td></td>\n",
       "      <td></td>\n",
       "    </tr>\n",
       "    <tr>\n",
       "      <th>2</th>\n",
       "      <td>True</td>\n",
       "      <td>Machol</td>\n",
       "      <td>Pierre</td>\n",
       "      <td>vitrier</td>\n",
       "      <td>Garçon</td>\n",
       "      <td>24</td>\n",
       "      <td></td>\n",
       "      <td>Piémontaise</td>\n",
       "      <td></td>\n",
       "      <td></td>\n",
       "    </tr>\n",
       "    <tr>\n",
       "      <th>3</th>\n",
       "      <td>True</td>\n",
       "      <td>Desbois</td>\n",
       "      <td>Alexandre</td>\n",
       "      <td>prop re</td>\n",
       "      <td>Homme marié</td>\n",
       "      <td>48</td>\n",
       "      <td></td>\n",
       "      <td>française</td>\n",
       "      <td></td>\n",
       "      <td></td>\n",
       "    </tr>\n",
       "    <tr>\n",
       "      <th>4</th>\n",
       "      <td>False</td>\n",
       "      <td>Vignat</td>\n",
       "      <td>Zélie</td>\n",
       "      <td>prop re</td>\n",
       "      <td>sa fe</td>\n",
       "      <td>30</td>\n",
       "      <td></td>\n",
       "      <td>française</td>\n",
       "      <td></td>\n",
       "      <td></td>\n",
       "    </tr>\n",
       "  </tbody>\n",
       "</table>\n",
       "</div>"
      ],
      "text/plain": [
       "  Target      Nom     Prenom Profession     Relation Age Année  Nationalité  \\\n",
       "0  False   Breton    Cyrille  menuisier       Garçon  25          française   \n",
       "1   True  Ferazzi    Auguste    vitrier       Garçon  30        Piémontaise   \n",
       "2   True   Machol     Pierre    vitrier       Garçon  24        Piémontaise   \n",
       "3   True  Desbois  Alexandre    prop re  Homme marié  48          française   \n",
       "4  False   Vignat      Zélie    prop re        sa fe  30          française   \n",
       "\n",
       "  Ville Plus  \n",
       "0             \n",
       "1             \n",
       "2             \n",
       "3             \n",
       "4             "
      ]
     },
     "execution_count": 163,
     "metadata": {},
     "output_type": "execute_result"
    }
   ],
   "source": [
    "# Chemin vers le fichier JSON\n",
    "json_file = \"entities.json\"\n",
    "\n",
    "# Appeler la fonction pour extraire les informations et créer le dataset\n",
    "df=extract_info(json_file)\n",
    "\n",
    "df.head()"
   ]
  },
  {
   "cell_type": "code",
   "execution_count": 164,
   "metadata": {},
   "outputs": [],
   "source": [
    "# Enlever les lignes vides\n",
    "df=df[(df['Prenom']!='') & ((df['Target']==True)|(df['Target']==False))]"
   ]
  },
  {
   "cell_type": "code",
   "execution_count": 165,
   "metadata": {},
   "outputs": [],
   "source": [
    "# Enlever les lignes où il y a chef et l'etiquette est false\n",
    "index_to_drop = df[(df['Target'] == False) & ((df['Relation'].str.startswith('ch')) | (df['Relation'].str.startswith('Ch')))].index\n",
    "df = df.drop(index_to_drop)"
   ]
  },
  {
   "cell_type": "code",
   "execution_count": 166,
   "metadata": {},
   "outputs": [
    {
     "data": {
      "text/html": [
       "<div>\n",
       "<style scoped>\n",
       "    .dataframe tbody tr th:only-of-type {\n",
       "        vertical-align: middle;\n",
       "    }\n",
       "\n",
       "    .dataframe tbody tr th {\n",
       "        vertical-align: top;\n",
       "    }\n",
       "\n",
       "    .dataframe thead th {\n",
       "        text-align: right;\n",
       "    }\n",
       "</style>\n",
       "<table border=\"1\" class=\"dataframe\">\n",
       "  <thead>\n",
       "    <tr style=\"text-align: right;\">\n",
       "      <th></th>\n",
       "      <th>Target</th>\n",
       "      <th>Nom</th>\n",
       "      <th>Prenom</th>\n",
       "      <th>Profession</th>\n",
       "      <th>Relation</th>\n",
       "      <th>Age</th>\n",
       "      <th>Année</th>\n",
       "      <th>Nationalité</th>\n",
       "      <th>Ville</th>\n",
       "      <th>Plus</th>\n",
       "      <th>Description</th>\n",
       "    </tr>\n",
       "  </thead>\n",
       "  <tbody>\n",
       "    <tr>\n",
       "      <th>0</th>\n",
       "      <td>False</td>\n",
       "      <td>Breton</td>\n",
       "      <td>Cyrille</td>\n",
       "      <td>menuisier</td>\n",
       "      <td>Garçon</td>\n",
       "      <td>25</td>\n",
       "      <td></td>\n",
       "      <td>française</td>\n",
       "      <td></td>\n",
       "      <td></td>\n",
       "      <td>Cyrille Breton 25 française menuisier Garçon</td>\n",
       "    </tr>\n",
       "    <tr>\n",
       "      <th>1</th>\n",
       "      <td>True</td>\n",
       "      <td>Ferazzi</td>\n",
       "      <td>Auguste</td>\n",
       "      <td>vitrier</td>\n",
       "      <td>Garçon</td>\n",
       "      <td>30</td>\n",
       "      <td></td>\n",
       "      <td>Piémontaise</td>\n",
       "      <td></td>\n",
       "      <td></td>\n",
       "      <td>Auguste Ferazzi 30 Piémontaise vitrier Garçon</td>\n",
       "    </tr>\n",
       "    <tr>\n",
       "      <th>2</th>\n",
       "      <td>True</td>\n",
       "      <td>Machol</td>\n",
       "      <td>Pierre</td>\n",
       "      <td>vitrier</td>\n",
       "      <td>Garçon</td>\n",
       "      <td>24</td>\n",
       "      <td></td>\n",
       "      <td>Piémontaise</td>\n",
       "      <td></td>\n",
       "      <td></td>\n",
       "      <td>Pierre Machol 24 Piémontaise vitrier Garçon</td>\n",
       "    </tr>\n",
       "    <tr>\n",
       "      <th>3</th>\n",
       "      <td>True</td>\n",
       "      <td>Desbois</td>\n",
       "      <td>Alexandre</td>\n",
       "      <td>prop re</td>\n",
       "      <td>Homme marié</td>\n",
       "      <td>48</td>\n",
       "      <td></td>\n",
       "      <td>française</td>\n",
       "      <td></td>\n",
       "      <td></td>\n",
       "      <td>Alexandre Desbois 48 française prop re Homme m...</td>\n",
       "    </tr>\n",
       "    <tr>\n",
       "      <th>4</th>\n",
       "      <td>False</td>\n",
       "      <td>Vignat</td>\n",
       "      <td>Zélie</td>\n",
       "      <td>prop re</td>\n",
       "      <td>sa fe</td>\n",
       "      <td>30</td>\n",
       "      <td></td>\n",
       "      <td>française</td>\n",
       "      <td></td>\n",
       "      <td></td>\n",
       "      <td>Zélie Vignat 30 française prop re sa fe</td>\n",
       "    </tr>\n",
       "  </tbody>\n",
       "</table>\n",
       "</div>"
      ],
      "text/plain": [
       "  Target      Nom     Prenom Profession     Relation Age Année  Nationalité  \\\n",
       "0  False   Breton    Cyrille  menuisier       Garçon  25          française   \n",
       "1   True  Ferazzi    Auguste    vitrier       Garçon  30        Piémontaise   \n",
       "2   True   Machol     Pierre    vitrier       Garçon  24        Piémontaise   \n",
       "3   True  Desbois  Alexandre    prop re  Homme marié  48          française   \n",
       "4  False   Vignat      Zélie    prop re        sa fe  30          française   \n",
       "\n",
       "  Ville Plus                                        Description  \n",
       "0                 Cyrille Breton 25 française menuisier Garçon   \n",
       "1                Auguste Ferazzi 30 Piémontaise vitrier Garçon   \n",
       "2                  Pierre Machol 24 Piémontaise vitrier Garçon   \n",
       "3             Alexandre Desbois 48 française prop re Homme m...  \n",
       "4                      Zélie Vignat 30 française prop re sa fe   "
      ]
     },
     "execution_count": 166,
     "metadata": {},
     "output_type": "execute_result"
    }
   ],
   "source": [
    "def create_description_column(df):\n",
    "    df['Description'] = \"\"\n",
    "    for index, row in df.iterrows():\n",
    "        if row['Prenom']!='':\n",
    "            description = row['Prenom'] + \" \" + row['Nom'] + \" \" \n",
    "        if row['Age']!='':\n",
    "            description += row['Age'] + \" \"\n",
    "        if row['Nationalité']!='':\n",
    "            description += row['Nationalité'] + \" \"\n",
    "        if row['Profession']!='':\n",
    "            description += row['Profession'] + \" \"\n",
    "        if row['Relation']!='':\n",
    "            description += row['Relation'] + \" \"\n",
    "        if row['Ville']!='':\n",
    "            description += row['Ville'] + \" \"\n",
    "        df.at[index, 'Description'] = description\n",
    "\n",
    "    return df\n",
    "\n",
    "# Appel de la fonction pour créer la nouvelle colonne\n",
    "df = create_description_column(df)\n",
    "\n",
    "df.head()"
   ]
  },
  {
   "cell_type": "code",
   "execution_count": 167,
   "metadata": {},
   "outputs": [],
   "source": [
    "# Formation des données\n",
    "X=df['Description'].tolist()\n",
    "y=df['Target'].tolist()\n",
    "\n",
    "# Diviser les données en ensembles d'entraînement et de test\n",
    "X_train, X_test, y_train, y_test = train_test_split(X, y, test_size=0.2,random_state=42)"
   ]
  },
  {
   "cell_type": "code",
   "execution_count": 168,
   "metadata": {},
   "outputs": [],
   "source": [
    "examples = []  # Liste pour stocker les inputs\n",
    "\n",
    "# Garder que 2500 données d'entrainements\n",
    "for text, label in zip(X_train, y_train):\n",
    "    # Créer un nouvel exemple et l'ajouter à la liste examples\n",
    "    examples.append(ClassifyExample(text=text, label=label))\n",
    "    if len(examples)==2500:\n",
    "        break"
   ]
  },
  {
   "cell_type": "code",
   "execution_count": 169,
   "metadata": {},
   "outputs": [],
   "source": [
    "# recupérer les réponses pour chaque appel API\n",
    "list_xtest=[]\n",
    "global_list=[]\n",
    "for x in X_test:\n",
    "    if len(list_xtest)==90:\n",
    "        global_list.append(list_xtest)\n",
    "        list_xtest=[x]\n",
    "    else:\n",
    "       list_xtest.append(x)\n",
    "\n",
    "if list_xtest:\n",
    "    global_list.append(list_xtest)"
   ]
  },
  {
   "cell_type": "code",
   "execution_count": 175,
   "metadata": {},
   "outputs": [],
   "source": [
    "# Appel API\n",
    "predictions_list=[]\n",
    "for lst in global_list:\n",
    "    co = cohere.Client(\"q5SRgMDd5NDse1jEarBhnYCXf9fz0b5SKqGZNq3Y\")\n",
    "    response = co.classify(\n",
    "        examples=examples,\n",
    "        inputs=lst\n",
    "    )\n",
    "    predictions = [classification.prediction for classification in response.classifications]\n",
    "    \n",
    "    # Ajouter les prédictions à la liste des prédictions\n",
    "    predictions_list.append(predictions)"
   ]
  },
  {
   "cell_type": "code",
   "execution_count": 176,
   "metadata": {},
   "outputs": [],
   "source": [
    "# Liste principale\n",
    "flattened_list = []\n",
    "\n",
    "# Aplatir la liste de listes\n",
    "for sublist in predictions_list:\n",
    "    flattened_list.extend(sublist)"
   ]
  },
  {
   "cell_type": "code",
   "execution_count": 177,
   "metadata": {},
   "outputs": [],
   "source": [
    "flattened_list= [True if s == 'True' else False for s in flattened_list]"
   ]
  },
  {
   "cell_type": "code",
   "execution_count": 178,
   "metadata": {},
   "outputs": [
    {
     "data": {
      "image/png": "[encoded data removed]",
      "text/plain": [
       "<Figure size 300x300 with 1 Axes>"
      ]
     },
     "metadata": {},
     "output_type": "display_data"
    }
   ],
   "source": [
    "# Calculer la matrice de confusion\n",
    "cm = confusion_matrix(y_test, flattened_list)\n",
    "\n",
    "# Utiliser Seaborn pour l'affichage\n",
    "plt.figure(figsize=(3, 3))\n",
    "sns.heatmap(cm, annot=True, fmt=\"d\", cmap=\"Blues\", linewidths=.5, cbar=False)\n",
    "plt.title('Matrice de Confusion pour l\\'ensemble de test')\n",
    "plt.xlabel('Prédictions')\n",
    "plt.ylabel('Vraies étiquettes')\n",
    "plt.show()"
   ]
  },
  {
   "cell_type": "code",
   "execution_count": 179,
   "metadata": {},
   "outputs": [
    {
     "name": "stdout",
     "output_type": "stream",
     "text": [
      "Métriques pour l'ensemble d'entraînement:\n",
      "              precision    recall  f1-score   support\n",
      "\n",
      "       False       0.95      0.96      0.95      3725\n",
      "        True       0.85      0.84      0.84      1083\n",
      "\n",
      "    accuracy                           0.93      4808\n",
      "   macro avg       0.90      0.90      0.90      4808\n",
      "weighted avg       0.93      0.93      0.93      4808\n",
      "\n"
     ]
    }
   ],
   "source": [
    "print(\"Métriques pour l'ensemble d'entraînement:\")\n",
    "print(classification_report(y_test, flattened_list))"
   ]
  },
  {
   "cell_type": "code",
   "execution_count": 180,
   "metadata": {},
   "outputs": [
    {
     "name": "stdout",
     "output_type": "stream",
     "text": [
      "f1-score:  0.8437644877144181\n",
      "Precision:  0.840258541089566\n",
      "Recall:  0.8472998137802608\n"
     ]
    }
   ],
   "source": [
    "print('f1-score: ',f1_score(flattened_list, y_test))\n",
    "print('Precision: ',precision_score(flattened_list, y_test))\n",
    "print('Recall: ',recall_score(flattened_list, y_test))"
   ]
  },
  {
   "cell_type": "markdown",
   "metadata": {},
   "source": [
    "## Piste d'amélioration: Description contextuelle"
   ]
  },
  {
   "cell_type": "code",
   "execution_count": 181,
   "metadata": {},
   "outputs": [],
   "source": [
    "# Chemin vers le fichier JSON\n",
    "json_file = \"entities.json\"\n",
    "\n",
    "# Appeler la fonction pour extraire les informations et créer le dataset\n",
    "df=extract_info(json_file)"
   ]
  },
  {
   "cell_type": "code",
   "execution_count": 182,
   "metadata": {},
   "outputs": [],
   "source": [
    "# Enlever les lignes vides\n",
    "df=df[(df['Prenom']!='') & ((df['Target']==True)|(df['Target']==False))]\n",
    "\n",
    "# Enlever les lignes où il y a chef et l'etiquette est false\n",
    "index_to_drop = df[(df['Target'] == False) & ((df['Relation'].str.startswith('ch')) | (df['Relation'].str.startswith('Ch')))].index\n",
    "df = df.drop(index_to_drop)"
   ]
  },
  {
   "cell_type": "code",
   "execution_count": 183,
   "metadata": {},
   "outputs": [],
   "source": [
    "def create_description_column(df):\n",
    "    df['Description'] = \"\"\n",
    "    for index, row in df.iterrows():\n",
    "        if row['Prenom']!='':\n",
    "            description = \"La personne s'appelle \" + row['Prenom'] + \" \" + row['Nom'] + \",\"\n",
    "        if row['Age']!='':\n",
    "            description += \" âgé de \" + str(row['Age']) + \" ans,\"\n",
    "        if row['Nationalité']!='':\n",
    "            description += \" de nationalité \" + row['Nationalité'] + \",\"\n",
    "        if row['Profession']!='':\n",
    "            description += \" exerçant la profession de \" + row['Profession'] + \",\"\n",
    "        if row['Relation']!='':\n",
    "            description += \" étant \" + row['Relation'] + \" du ménage,\"\n",
    "        if row['Ville']!='':\n",
    "            description += \" habitant à \" + row['Ville'] + \".\"\n",
    "        df.at[index, 'Description'] = description\n",
    "\n",
    "    return df\n",
    "\n",
    "# Appel de la fonction pour créer la nouvelle colonne\n",
    "df = create_description_column(df)"
   ]
  },
  {
   "cell_type": "code",
   "execution_count": 184,
   "metadata": {},
   "outputs": [
    {
     "data": {
      "text/html": [
       "<div>\n",
       "<style scoped>\n",
       "    .dataframe tbody tr th:only-of-type {\n",
       "        vertical-align: middle;\n",
       "    }\n",
       "\n",
       "    .dataframe tbody tr th {\n",
       "        vertical-align: top;\n",
       "    }\n",
       "\n",
       "    .dataframe thead th {\n",
       "        text-align: right;\n",
       "    }\n",
       "</style>\n",
       "<table border=\"1\" class=\"dataframe\">\n",
       "  <thead>\n",
       "    <tr style=\"text-align: right;\">\n",
       "      <th></th>\n",
       "      <th>Target</th>\n",
       "      <th>Nom</th>\n",
       "      <th>Prenom</th>\n",
       "      <th>Profession</th>\n",
       "      <th>Relation</th>\n",
       "      <th>Age</th>\n",
       "      <th>Année</th>\n",
       "      <th>Nationalité</th>\n",
       "      <th>Ville</th>\n",
       "      <th>Plus</th>\n",
       "      <th>Description</th>\n",
       "    </tr>\n",
       "  </thead>\n",
       "  <tbody>\n",
       "    <tr>\n",
       "      <th>0</th>\n",
       "      <td>False</td>\n",
       "      <td>Breton</td>\n",
       "      <td>Cyrille</td>\n",
       "      <td>menuisier</td>\n",
       "      <td>Garçon</td>\n",
       "      <td>25</td>\n",
       "      <td></td>\n",
       "      <td>française</td>\n",
       "      <td></td>\n",
       "      <td></td>\n",
       "      <td>La personne s'appelle Cyrille Breton, âgé de 2...</td>\n",
       "    </tr>\n",
       "    <tr>\n",
       "      <th>1</th>\n",
       "      <td>True</td>\n",
       "      <td>Ferazzi</td>\n",
       "      <td>Auguste</td>\n",
       "      <td>vitrier</td>\n",
       "      <td>Garçon</td>\n",
       "      <td>30</td>\n",
       "      <td></td>\n",
       "      <td>Piémontaise</td>\n",
       "      <td></td>\n",
       "      <td></td>\n",
       "      <td>La personne s'appelle Auguste Ferazzi, âgé de ...</td>\n",
       "    </tr>\n",
       "    <tr>\n",
       "      <th>2</th>\n",
       "      <td>True</td>\n",
       "      <td>Machol</td>\n",
       "      <td>Pierre</td>\n",
       "      <td>vitrier</td>\n",
       "      <td>Garçon</td>\n",
       "      <td>24</td>\n",
       "      <td></td>\n",
       "      <td>Piémontaise</td>\n",
       "      <td></td>\n",
       "      <td></td>\n",
       "      <td>La personne s'appelle Pierre Machol, âgé de 24...</td>\n",
       "    </tr>\n",
       "    <tr>\n",
       "      <th>3</th>\n",
       "      <td>True</td>\n",
       "      <td>Desbois</td>\n",
       "      <td>Alexandre</td>\n",
       "      <td>prop re</td>\n",
       "      <td>Homme marié</td>\n",
       "      <td>48</td>\n",
       "      <td></td>\n",
       "      <td>française</td>\n",
       "      <td></td>\n",
       "      <td></td>\n",
       "      <td>La personne s'appelle Alexandre Desbois, âgé d...</td>\n",
       "    </tr>\n",
       "    <tr>\n",
       "      <th>4</th>\n",
       "      <td>False</td>\n",
       "      <td>Vignat</td>\n",
       "      <td>Zélie</td>\n",
       "      <td>prop re</td>\n",
       "      <td>sa fe</td>\n",
       "      <td>30</td>\n",
       "      <td></td>\n",
       "      <td>française</td>\n",
       "      <td></td>\n",
       "      <td></td>\n",
       "      <td>La personne s'appelle Zélie Vignat, âgé de 30 ...</td>\n",
       "    </tr>\n",
       "  </tbody>\n",
       "</table>\n",
       "</div>"
      ],
      "text/plain": [
       "  Target      Nom     Prenom Profession     Relation Age Année  Nationalité  \\\n",
       "0  False   Breton    Cyrille  menuisier       Garçon  25          française   \n",
       "1   True  Ferazzi    Auguste    vitrier       Garçon  30        Piémontaise   \n",
       "2   True   Machol     Pierre    vitrier       Garçon  24        Piémontaise   \n",
       "3   True  Desbois  Alexandre    prop re  Homme marié  48          française   \n",
       "4  False   Vignat      Zélie    prop re        sa fe  30          française   \n",
       "\n",
       "  Ville Plus                                        Description  \n",
       "0             La personne s'appelle Cyrille Breton, âgé de 2...  \n",
       "1             La personne s'appelle Auguste Ferazzi, âgé de ...  \n",
       "2             La personne s'appelle Pierre Machol, âgé de 24...  \n",
       "3             La personne s'appelle Alexandre Desbois, âgé d...  \n",
       "4             La personne s'appelle Zélie Vignat, âgé de 30 ...  "
      ]
     },
     "execution_count": 184,
     "metadata": {},
     "output_type": "execute_result"
    }
   ],
   "source": [
    "df.head()"
   ]
  },
  {
   "cell_type": "code",
   "execution_count": 185,
   "metadata": {},
   "outputs": [],
   "source": [
    "X=df['Description'].tolist()\n",
    "y=df['Target'].tolist()\n",
    "\n",
    "# Diviser les données en ensembles d'entraînement et de test\n",
    "X_train, X_test, y_train, y_test = train_test_split(X, y, test_size=0.2,random_state=42)"
   ]
  },
  {
   "cell_type": "code",
   "execution_count": 186,
   "metadata": {},
   "outputs": [],
   "source": [
    "examples = []  # Liste pour stocker les inputs\n",
    "\n",
    "# Garder que 2500 données d'entrainements\n",
    "for text, label in zip(X_train, y_train):\n",
    "    # Créer un nouvel exemple et l'ajouter à la liste examples\n",
    "    examples.append(ClassifyExample(text=text, label=label))\n",
    "    if len(examples)==2500:\n",
    "        break"
   ]
  },
  {
   "cell_type": "code",
   "execution_count": 187,
   "metadata": {},
   "outputs": [],
   "source": [
    "# recupérer les réponses pour chaque appel API\n",
    "list_xtest=[]\n",
    "global_list=[]\n",
    "for x in X_test:\n",
    "    if len(list_xtest)==90:\n",
    "        global_list.append(list_xtest)\n",
    "        list_xtest=[x]\n",
    "    else:\n",
    "       list_xtest.append(x)\n",
    "\n",
    "if list_xtest:\n",
    "    global_list.append(list_xtest)"
   ]
  },
  {
   "cell_type": "code",
   "execution_count": 189,
   "metadata": {},
   "outputs": [],
   "source": [
    "# Appel API\n",
    "predictions_list=[]\n",
    "for lst in global_list:\n",
    "    co = cohere.Client(\"q5SRgMDd5NDse1jEarBhnYCXf9fz0b5SKqGZNq3Y\")\n",
    "    response = co.classify(\n",
    "        examples=examples,\n",
    "        inputs=lst\n",
    "    )\n",
    "    predictions = [classification.prediction for classification in response.classifications]\n",
    "    \n",
    "    # Ajouter les prédictions à la liste des prédictions\n",
    "    predictions_list.append(predictions)"
   ]
  },
  {
   "cell_type": "code",
   "execution_count": 190,
   "metadata": {},
   "outputs": [],
   "source": [
    "# Liste principale\n",
    "flattened_list = []\n",
    "\n",
    "# Aplatir la liste de listes\n",
    "for sublist in predictions_list:\n",
    "    flattened_list.extend(sublist)"
   ]
  },
  {
   "cell_type": "code",
   "execution_count": 191,
   "metadata": {},
   "outputs": [],
   "source": [
    "flattened_list= [True if s == 'True' else False for s in flattened_list]"
   ]
  },
  {
   "cell_type": "code",
   "execution_count": 192,
   "metadata": {},
   "outputs": [
    {
     "data": {
      "image/png": "[encoded data removed]",
      "text/plain": [
       "<Figure size 300x300 with 1 Axes>"
      ]
     },
     "metadata": {},
     "output_type": "display_data"
    }
   ],
   "source": [
    "# Calculer la matrice de confusion\n",
    "cm = confusion_matrix(y_test, flattened_list)\n",
    "\n",
    "# Utiliser Seaborn pour l'affichage\n",
    "plt.figure(figsize=(3, 3))\n",
    "sns.heatmap(cm, annot=True, fmt=\"d\", cmap=\"Blues\", linewidths=.5, cbar=False)\n",
    "plt.title('Matrice de Confusion pour l\\'ensemble de test')\n",
    "plt.xlabel('Prédictions')\n",
    "plt.ylabel('Vraies étiquettes')\n",
    "plt.show()"
   ]
  },
  {
   "cell_type": "code",
   "execution_count": 193,
   "metadata": {},
   "outputs": [
    {
     "name": "stdout",
     "output_type": "stream",
     "text": [
      "Métriques pour l'ensemble d'entraînement:\n",
      "              precision    recall  f1-score   support\n",
      "\n",
      "       False       0.94      0.95      0.95      3725\n",
      "        True       0.83      0.81      0.82      1083\n",
      "\n",
      "    accuracy                           0.92      4808\n",
      "   macro avg       0.89      0.88      0.88      4808\n",
      "weighted avg       0.92      0.92      0.92      4808\n",
      "\n"
     ]
    }
   ],
   "source": [
    "print(\"Métriques pour l'ensemble d'entraînement:\")\n",
    "print(classification_report(y_test, flattened_list))"
   ]
  },
  {
   "cell_type": "code",
   "execution_count": 194,
   "metadata": {},
   "outputs": [
    {
     "name": "stdout",
     "output_type": "stream",
     "text": [
      "f1-score:  0.8198874296435272\n",
      "Precision:  0.8070175438596491\n",
      "Recall:  0.8331744518589133\n"
     ]
    }
   ],
   "source": [
    "print('f1-score: ',f1_score(flattened_list, y_test))\n",
    "print('Precision: ',precision_score(flattened_list, y_test))\n",
    "print('Recall: ',recall_score(flattened_list, y_test))"
   ]
  }
 ],
 "metadata": {
  "kernelspec": {
   "display_name": "base",
   "language": "python",
   "name": "python3"
  },
  "language_info": {
   "codemirror_mode": {
    "name": "ipython",
    "version": 3
   },
   "file_extension": ".py",
   "mimetype": "text/x-python",
   "name": "python",
   "nbconvert_exporter": "python",
   "pygments_lexer": "ipython3",
   "version": "3.11.6"
  }
 },
 "nbformat": 4,
 "nbformat_minor": 2
}
