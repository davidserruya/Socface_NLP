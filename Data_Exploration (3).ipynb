{
 "cells": [
  {
   "cell_type": "code",
   "execution_count": 68,
   "metadata": {},
   "outputs": [],
   "source": [
    "import json\n",
    "import re\n",
    "import pandas as pd\n",
    "import numpy as np\n",
    "%matplotlib inline\n",
    "import matplotlib.pyplot as plt\n",
    "import seaborn as sns\n",
    "sns.set_theme()"
   ]
  },
  {
   "cell_type": "code",
   "execution_count": 69,
   "metadata": {},
   "outputs": [],
   "source": [
    "def extract_info(json_file):\n",
    "\n",
    "    data_list = []\n",
    "    # Charger le fichier JSON\n",
    "    with open(json_file, 'r') as f:\n",
    "        data = json.load(f)\n",
    "\n",
    "    # Parcourir chaque élément du JSON\n",
    "    for img, info in data.items():\n",
    "        # Diviser les informations en lignes en séparant par \"\\n\"\n",
    "        lines = info.split(\"\\n\")\n",
    "\n",
    "        # Parcourir chaque ligne\n",
    "        for line in lines:\n",
    "            # Retirer les éléments vides résultant de la division\n",
    "            elements = re.findall(r\"[\\S\\s]*?(?=Ⓟ|Ⓞ|Ⓕ|Ⓜ|Ⓐ|Ⓒ|Ⓚ|Ⓑ|Ⓘ|Ⓗ|Ⓔ|$)\", line)\n",
    "            elements = [element.strip() for element in elements if element.strip()]\n",
    "            target, nom, prenom, profession, lien, age, annee, nationalite, ville, biz = \"\", \"\", \"\", \"\", \"\", \"\", \"\", \"\", \"\", \"\"\n",
    "            for element in elements:\n",
    "                # Supprimer les logos de la colonne \"nom\"\n",
    "                #element = element.replace('Ⓞ', '').replace('Ⓟ', '')  # Supprimer les logos Ⓞ et Ⓟ\n",
    "                if 'Ⓟ' in element:\n",
    "                    target=True\n",
    "                    nom=element.replace('Ⓟ', '')\n",
    "                elif 'Ⓞ' in element:\n",
    "                    target=False\n",
    "                    nom=element.replace('Ⓞ', '')\n",
    "                elif 'Ⓕ' in element:\n",
    "                    prenom=element.replace('Ⓕ', '')\n",
    "                elif 'Ⓜ' in element:\n",
    "                    profession=element.replace('Ⓜ', '')\n",
    "                elif 'Ⓐ' in element:\n",
    "                    age=element.replace('Ⓐ', '')\n",
    "                elif 'Ⓚ' in element:\n",
    "                    nationalite=element.replace('Ⓚ', '')\n",
    "                elif 'Ⓑ' in element:\n",
    "                    annee=element.replace('Ⓑ', '')\n",
    "                elif 'Ⓘ' in element:\n",
    "                    ville=element.replace('Ⓘ', '')\n",
    "                elif 'Ⓗ' in element or 'Ⓒ' in element:\n",
    "                    if 'Ⓛ' in element:\n",
    "                        element=element.replace('Ⓗ', '').replace('Ⓒ', '')\n",
    "                        lien=element.split('Ⓛ', 1)[0]\n",
    "                    else:\n",
    "                        lien=element.replace('Ⓗ', '').replace('Ⓒ', '') \n",
    "                elif 'Ⓔ' in element:\n",
    "                    biz=element.replace('Ⓔ', '')\n",
    "\n",
    "                    \n",
    "            # Stocker les données dans un dictionnaire\n",
    "            data_dict = {'Target': target, 'Nom': nom, 'Prenom': prenom, 'Profession': profession,\n",
    "                            'Relation': lien, 'Age': age,'Année':annee, 'Nationalité': nationalite, 'Ville': ville, 'Plus':biz}\n",
    "            # Ajouter le dictionnaire à la liste\n",
    "            data_list.append(data_dict)\n",
    "\n",
    "    return pd.DataFrame(data_list)"
   ]
  },
  {
   "cell_type": "code",
   "execution_count": 70,
   "metadata": {},
   "outputs": [
    {
     "data": {
      "text/html": [
       "<div>\n",
       "<style scoped>\n",
       "    .dataframe tbody tr th:only-of-type {\n",
       "        vertical-align: middle;\n",
       "    }\n",
       "\n",
       "    .dataframe tbody tr th {\n",
       "        vertical-align: top;\n",
       "    }\n",
       "\n",
       "    .dataframe thead th {\n",
       "        text-align: right;\n",
       "    }\n",
       "</style>\n",
       "<table border=\"1\" class=\"dataframe\">\n",
       "  <thead>\n",
       "    <tr style=\"text-align: right;\">\n",
       "      <th></th>\n",
       "      <th>Target</th>\n",
       "      <th>Nom</th>\n",
       "      <th>Prenom</th>\n",
       "      <th>Profession</th>\n",
       "      <th>Relation</th>\n",
       "      <th>Age</th>\n",
       "      <th>Année</th>\n",
       "      <th>Nationalité</th>\n",
       "      <th>Ville</th>\n",
       "      <th>Plus</th>\n",
       "    </tr>\n",
       "  </thead>\n",
       "  <tbody>\n",
       "    <tr>\n",
       "      <th>0</th>\n",
       "      <td>False</td>\n",
       "      <td>Breton</td>\n",
       "      <td>Cyrille</td>\n",
       "      <td>menuisier</td>\n",
       "      <td>Garçon</td>\n",
       "      <td>25</td>\n",
       "      <td></td>\n",
       "      <td>française</td>\n",
       "      <td></td>\n",
       "      <td></td>\n",
       "    </tr>\n",
       "    <tr>\n",
       "      <th>1</th>\n",
       "      <td>True</td>\n",
       "      <td>Ferazzi</td>\n",
       "      <td>Auguste</td>\n",
       "      <td>vitrier</td>\n",
       "      <td>Garçon</td>\n",
       "      <td>30</td>\n",
       "      <td></td>\n",
       "      <td>Piémontaise</td>\n",
       "      <td></td>\n",
       "      <td></td>\n",
       "    </tr>\n",
       "    <tr>\n",
       "      <th>2</th>\n",
       "      <td>True</td>\n",
       "      <td>Machol</td>\n",
       "      <td>Pierre</td>\n",
       "      <td>vitrier</td>\n",
       "      <td>Garçon</td>\n",
       "      <td>24</td>\n",
       "      <td></td>\n",
       "      <td>Piémontaise</td>\n",
       "      <td></td>\n",
       "      <td></td>\n",
       "    </tr>\n",
       "    <tr>\n",
       "      <th>3</th>\n",
       "      <td>True</td>\n",
       "      <td>Desbois</td>\n",
       "      <td>Alexandre</td>\n",
       "      <td>prop re</td>\n",
       "      <td>Homme marié</td>\n",
       "      <td>48</td>\n",
       "      <td></td>\n",
       "      <td>française</td>\n",
       "      <td></td>\n",
       "      <td></td>\n",
       "    </tr>\n",
       "    <tr>\n",
       "      <th>4</th>\n",
       "      <td>False</td>\n",
       "      <td>Vignat</td>\n",
       "      <td>Zélie</td>\n",
       "      <td>prop re</td>\n",
       "      <td>sa fe</td>\n",
       "      <td>30</td>\n",
       "      <td></td>\n",
       "      <td>française</td>\n",
       "      <td></td>\n",
       "      <td></td>\n",
       "    </tr>\n",
       "  </tbody>\n",
       "</table>\n",
       "</div>"
      ],
      "text/plain": [
       "  Target      Nom     Prenom Profession     Relation Age Année  Nationalité  \\\n",
       "0  False   Breton    Cyrille  menuisier       Garçon  25          française   \n",
       "1   True  Ferazzi    Auguste    vitrier       Garçon  30        Piémontaise   \n",
       "2   True   Machol     Pierre    vitrier       Garçon  24        Piémontaise   \n",
       "3   True  Desbois  Alexandre    prop re  Homme marié  48          française   \n",
       "4  False   Vignat      Zélie    prop re        sa fe  30          française   \n",
       "\n",
       "  Ville Plus  \n",
       "0             \n",
       "1             \n",
       "2             \n",
       "3             \n",
       "4             "
      ]
     },
     "execution_count": 70,
     "metadata": {},
     "output_type": "execute_result"
    }
   ],
   "source": [
    "# Chemin vers le fichier JSON\n",
    "json_file = \"entities.json\"\n",
    "\n",
    "# Appeler la fonction pour extraire les informations et créer le dataset\n",
    "df=extract_info(json_file)\n",
    "\n",
    "df.head()"
   ]
  },
  {
   "cell_type": "markdown",
   "metadata": {},
   "source": [
    "## Data Exploration"
   ]
  },
  {
   "cell_type": "code",
   "execution_count": 71,
   "metadata": {},
   "outputs": [
    {
     "data": {
      "text/plain": [
       "(25448, 10)"
      ]
     },
     "execution_count": 71,
     "metadata": {},
     "output_type": "execute_result"
    }
   ],
   "source": [
    "df.shape"
   ]
  },
  {
   "cell_type": "code",
   "execution_count": 72,
   "metadata": {},
   "outputs": [
    {
     "name": "stdout",
     "output_type": "stream",
     "text": [
      "<class 'pandas.core.frame.DataFrame'>\n",
      "RangeIndex: 25448 entries, 0 to 25447\n",
      "Data columns (total 10 columns):\n",
      " #   Column       Non-Null Count  Dtype \n",
      "---  ------       --------------  ----- \n",
      " 0   Target       25448 non-null  object\n",
      " 1   Nom          25448 non-null  object\n",
      " 2   Prenom       25448 non-null  object\n",
      " 3   Profession   25448 non-null  object\n",
      " 4   Relation     25448 non-null  object\n",
      " 5   Age          25448 non-null  object\n",
      " 6   Année        25448 non-null  object\n",
      " 7   Nationalité  25448 non-null  object\n",
      " 8   Ville        25448 non-null  object\n",
      " 9   Plus         25448 non-null  object\n",
      "dtypes: object(10)\n",
      "memory usage: 1.9+ MB\n"
     ]
    }
   ],
   "source": [
    "df.info()"
   ]
  },
  {
   "cell_type": "code",
   "execution_count": 73,
   "metadata": {},
   "outputs": [
    {
     "name": "stdout",
     "output_type": "stream",
     "text": [
      "Nombre de lignes vides : (373, 10)\n"
     ]
    }
   ],
   "source": [
    "nb_empty = df[df.apply(lambda x: (x == \"\").all(), axis=1)]\n",
    "print(\"Nombre de lignes vides :\", nb_empty.shape)"
   ]
  },
  {
   "cell_type": "code",
   "execution_count": 74,
   "metadata": {},
   "outputs": [],
   "source": [
    "# enlever les lignes vides\n",
    "df= df[df.apply(lambda row: not all(row == \"\"), axis=1)]"
   ]
  },
  {
   "cell_type": "markdown",
   "metadata": {},
   "source": [
    "### Variable cible: Target"
   ]
  },
  {
   "cell_type": "code",
   "execution_count": 75,
   "metadata": {},
   "outputs": [
    {
     "data": {
      "text/plain": [
       "Target\n",
       "False    19159\n",
       "True      5640\n",
       "           276\n",
       "Name: count, dtype: int64"
      ]
     },
     "execution_count": 75,
     "metadata": {},
     "output_type": "execute_result"
    }
   ],
   "source": [
    "df['Target'].value_counts()"
   ]
  },
  {
   "cell_type": "code",
   "execution_count": 76,
   "metadata": {},
   "outputs": [
    {
     "data": {
      "image/png": "[encoded data removed]",
      "text/plain": [
       "<Figure size 1000x500 with 1 Axes>"
      ]
     },
     "metadata": {},
     "output_type": "display_data"
    }
   ],
   "source": [
    "df['Target'] = df['Target'].replace({True: 'Chef', False: 'Non Chef'})\n",
    "plt.figure(figsize=(10,5))\n",
    "ax = sns.countplot(x=\"Target\", data=df, palette='Set1', hue='Target', legend=False)  \n",
    "plt.title(\"Répartition des individus chef ou non\")\n",
    "\n",
    "total = len(df[\"Target\"])\n",
    "for p in ax.patches:\n",
    "    percentage = f'{100*p.get_height()/total:.1f}%\\n'\n",
    "    x = p.get_x() + p.get_width() / 2\n",
    "    y = p.get_height()\n",
    "    ax.annotate(percentage, (x, y), ha='center', va='center')\n",
    "\n",
    "plt.tight_layout()\n",
    "plt.show()"
   ]
  },
  {
   "cell_type": "markdown",
   "metadata": {},
   "source": [
    "### Relation "
   ]
  },
  {
   "cell_type": "code",
   "execution_count": 77,
   "metadata": {},
   "outputs": [
    {
     "name": "stdout",
     "output_type": "stream",
     "text": [
      "['Garçon' 'Homme marié' 'sa fe' 'Fille' 'Femme mariée' 'enfant' 'idem'\n",
      " 'chef' 'femme' 'fille' '' 'épouse' 'domestique' 'fils' 'soeur' 'Veuve'\n",
      " 'gendre du chef' 'fille du chef' 'mère du chef' 'père dy chef' 'ouvrier'\n",
      " 'Veuf' 'petit fils' 'petite fille' 'neveu' 'nièce'\n",
      " 'fille de la précédente' 'cousine' 'seule' 'mère' 'sa f' 'enft' 'famille'\n",
      " 'gendre' 'Chef de ménage' 'sa fille' 'son fils' 'chef de ménage'\n",
      " 'sa femme' 'Domestique' 'membre de famille' 'tante' 'frère'\n",
      " 'Femme mariée ' 'Fille ' 'Garçon ' 'Veuf ' 'domest' 'beau-frère' 'époux'\n",
      " 'b-soeur' 'pensionnaire' 'père' 'belle mère' 'Femme' 'belle fille'\n",
      " 'sa fme' 'son gendre' 'son petit fils' 'sa mère' 'sa petite fille'\n",
      " 'nourisson' 'belle sœur' 'bru' 'femme de chambre' 'petote fille'\n",
      " 'sa domestique' 'chef ménage' 'sœur' 'jardinier' 'mécanicien'\n",
      " 'cuisinière' 'valet de ch.' 'cocher' 'Chef' 'pour divers' 'leur fils'\n",
      " 'son nourisson' 'leur fille' 'leur domestique' 'frère du chef de ménage'\n",
      " 'leur mère' 'ch. d. m' 'ép.' 'ch. d . m' 'ep.' 'ép' 'amie' 'parente'\n",
      " 'parents' 'grand mère' 'Epouse' 'Neuveu' 'employé' 'Homme marié '\n",
      " 'ch. de M.' 'Sa femme' 'Sa fille' 'sSon fils' 'Son fils' 'Son gendre'\n",
      " 'Sa petite fille' 'chef de m' 'fm Fabre' 'fm Fournet' 'fm Rolland'\n",
      " 'fm Bonnet' 'mère du chef de m' 'chef de m.' 'beau père' 'patronne'\n",
      " 'fils du chef' 'sœur du chef' 'apprenti' 'leur tante' 'Veuve ' 'aide'\n",
      " 'petite nièce' 'chef veuf' 'sa fille Vve Groussin' 'fille de celle-ci'\n",
      " 'servante' 'femme de celui-ci' 'son frère' 'idem fils' 'beau frère'\n",
      " 'petite fille du chef' 'son fils cadet' 'fille des derniers' 'fils idem'\n",
      " 'fils des derniers' 'fille de la dernière' 'sa bru' 'fille idem'\n",
      " 'épouse du chef' 'mère de la précédente' 'neveu du chef' 'nièce du chef'\n",
      " 'f idem' 'ouvrière' 'veuve' 'célibataire' 'filles' 'chf' 'belle-fille'\n",
      " 'locataire' 'vicaire' 'ami' 'cuisinère' 'garde malade' 'cousin'\n",
      " 'petit-fils' 'domistique' 'sans profession' 'fem.' 'Enfant'\n",
      " 'chef de famille' 'mari' 'marie' 'beau fils' 'néant'\n",
      " 'mari de la cuisinière' 'epouse' 'Pensionnaire' 'fille de Jahier Manuit'\n",
      " 'gd père' 'Aryas' 'bonne' 'grand père' 'f' 'ch de m' 'D que' 'nourrisson'\n",
      " 'belle-mère' 'employée' 'Belle-fille' 'sa soeur' 'Fils' 'Fille chef'\n",
      " 'Fille naturelle' 'sp' 'petit enfant' 'leur gendre' 'leur petite fille'\n",
      " 'la soeur' 'la petite fille' 'institutrice' 'instituteur'\n",
      " 'fille de la mère' 'neveu du Chef' 'Leur fils' 'leur petit fils'\n",
      " 'la belle soeur' 'sa nièce' 'leur bru' 'leur petit enfant' '1/2 fille'\n",
      " 'id' 'beau-père' 'petite-fille' 'père du gendre' 'patron'\n",
      " 'enfant de domest' 'sa belle fille' 'son beau frère' 'belle-sœur'\n",
      " 'père chef' 'fille enfant' 'mère chef' 'Employé' 'Employée' 'à gages'\n",
      " 'enfant assisté' 'seul' 'enfant de la femme' 'chef de fam' 'oncle'\n",
      " 'Leur fille' 'fille de vfe. Le Corre' 'ép se' 'femme du chef'\n",
      " 'enfant assistée' 'grand-mère' 'epse' 'épse' 'belle soeur' 'leur nièce'\n",
      " 'chef domestique' 'sa petite-fille' 'sa belle-fille' 'sa belle-mère'\n",
      " 'enf. assistée' 'en nourrice' 'la fille' 'frère du chef' 'le fils'\n",
      " 'fermier' 'Gendre' 'non parent' 'b. mère' 'p. fils' 'b. sœur' 'son père'\n",
      " 'sa belle mère' 'son domestique' 'son beau père' 'fils du domestique'\n",
      " 'enf. en garde' 'en garde' 'mécanicien chez son père' 'nièce (nourisson)'\n",
      " 'p fille' 'p fils' 'la femme' 'le p. fils' 'la nièce' 'b mère' 'assisté'\n",
      " 'libre' 'petit gendre' 'arrière petite fille' 'son frèrs' 'sa sœur'\n",
      " 'chef de mé' 'd que' 'pupille' 'assistée' 'son neveu' 'genfre' 'p. fille'\n",
      " 'f du chef' 'P fils' 'cult r' 'neau frère' 'femme du chef de ménage'\n",
      " 'fils du chef de ménage' 'le gendre' 'le petit fils' 'don fils'\n",
      " 'sa tante' 'chef de m ge' 'mère et belle mère' 'Verdierhef de m'\n",
      " 'fils à Dupuy' 'leur fils 2°' 'leur fils 3°' 'leur fille cadette'\n",
      " 'frère au chef' 's. parenté' 's parenté' 'Payzac' 'Redon' 'fille mère'\n",
      " 'femme du fils' 'fils marié' 'chef d m' 'sa felle' 'b. père'\n",
      " 'la femme de Villemiansce' 'fille de Jacques' 'aieule'\n",
      " \"fille de l'épouse\" 'ch de ménage' 'ch. de ménage' 'sa fille plus jeune'\n",
      " 'prop re' 'sa f e' 'sa f me' 'mère du chef de ménage' 'belle enfant'\n",
      " 'leur fille adoptive' 'leur fils ainé' 'filla' 'frère du gendre'\n",
      " 'chef du ménage' 'fille du précédent' 'père de la femme' 'son épouse'\n",
      " 'oncle du chef' 'petit fils du chef' 'étrangère' 'étranger' 'gille'\n",
      " 'leur enfant' 'son enfant' 'son oncle' 'ch.de ménage' 'fme' 'f me'\n",
      " 'ch. de m.' 'chef religieuse' 'infirmier' \"surveillant d'Octroi\"\n",
      " 'mère de la femme' 'fils 1er lit' 'fils 2ème lit' 'Etabliss ts Petit'\n",
      " 'marraine' 'femme du parent' 'Etablis ts Petit' 'fils adoptif' 'gd mère'\n",
      " 'empl é' 'pet te filla' 'pte fille' 'commis' 'chef de mén' 'Mère'\n",
      " 'étrang' 'etrang' 'Idem' 'cheg' 'enfant inf' 'femme vivant avec'\n",
      " 'leur cousine' 'apprentie' 'leur père' 'gouvernante' 'b. frère'\n",
      " 'b. soeur' 'charretier' 'g on épicier' 'ch. d m.' 'g on boulanger'\n",
      " 'ch d m.' 'ch d m' 'son Epouse' 'Liénard' 'ch. de m' 'enfnt'\n",
      " 'chef de mé age' 'Mére' 'Soeur' 'Frère' 'G.er Limonadier' 'emp commerce'\n",
      " 'le père' 'la mére' 'membre' 'sa dame' 'chef de mange' 'cel.' 'cel' 'cl'\n",
      " 'Enft' 'enfnat' 'cef' 'belle meère' 'leuf ils' 'ep' 'la mèe' 'ch.m'\n",
      " 'ch.m.' 'ch. m' \"sa g' mère\" 'sa cousine' 'épu' 'leur fls'\n",
      " 'leur fille ainée' 'belle mère du patron' 'domestique du précédent'\n",
      " 'célibataire chef de ménage' 'fille de la préc te' 'dom'\n",
      " 'père du chef de ménage' 'leur fils cadet' 'Blanc-Bouderoux' 'fls'\n",
      " 'père du chef' 'Petite fille' 'Chef de mén' 'nourrisson ' 'Patron' 'n'\n",
      " 'fille adoptive' 'fils à Roche' 'fille à Roche Marie' 'sa brue'\n",
      " 'sa petite -fille' 'fils du idem' 'femmme' 'frère de la femme' 'fill'\n",
      " '2e femme' 'enfants' 'assiste' 'père de famille' 'mère de famille'\n",
      " 'pére de famille' 'aieul' 'mére de famille' 'chef de poste' 'èpouse'\n",
      " 'grand-père' 'enfant en garde' 'domest.' 'domestique de ferme'\n",
      " \"assisté de l'Allier\" 'leur frère' 'assisté Seine' 'belle-mère du chef'\n",
      " 'Leur petite fille' 'enf' 'enf.' 'Schouer' 'ép e' 'fils de la bonne'\n",
      " 'cuisinier' 'employé hôtel' 'argentière' 'pâtissier' 'belle-soeur'\n",
      " 'assisté de la Seine' 'Assisté de la Seine' 'Épouse' 'Assisté de la S'\n",
      " 'assisté de la S.' 'sœur du chef de ménage' 'beau père du chef de ménage'\n",
      " 'belle mère du chef de ménage' 'femme Loiseau' 'fillâtre'\n",
      " 'fme du dernier' 'son 2 fils' 'sa 2e fille' 'charron' 'maréchal'\n",
      " 'fem du chef' 'ouvrier chez Bardet' 'femme Guignard'\n",
      " 'épouse de la précédente' \"femme d'officier\" 'sa 2 fille'\n",
      " 'fille du chef de ménage' 'leur neveu' 'son cousin' 'parent du chef'\n",
      " 'soeur de la femme' 'fils ainé du chef de ménage'\n",
      " 'gendre des époux Perrocheau qui précèdent' 'soeur du chef ménage'\n",
      " 'frère idem' 'fille de celle ci' 'belle mère du chef'\n",
      " 'belle mère du chef du ménage' 'cultivatrice' 'femme du précédent'\n",
      " 'fils des précédents' 'fille des précédents' 'sa servante' 'FILLE'\n",
      " 'DOMESTIQUE' 'CHEF DE MENAGE' 'SOEUR' 'concubine' 'boulanger'\n",
      " 'brigadier PLM' 'Neveu' 'Montvendre' 'vve Cloarec' 'vve Bergot'\n",
      " 'femme de ce dernier' 'doestique' 'chef de m⁇nage' 'sans' 'b. fille'\n",
      " 'p. idem' 'française n associé' \"femme à l'associé\" \"fille à l'associé\"\n",
      " \"fille à la femme de l'associé\" 'do que' 'adjointe' 'enfant 1er mariage'\n",
      " 'petite filla' 'veuf' 'Belle sœur' 'epu' 'enfant du précédent' 'horloger'\n",
      " 'aubergiste' 'leur d que' 'enf de la femme' 'ouvrière du n°14'\n",
      " 'fille cadette' 'leur servante' 'son beau-frère']\n"
     ]
    },
    {
     "data": {
      "text/plain": [
       "527"
      ]
     },
     "execution_count": 77,
     "metadata": {},
     "output_type": "execute_result"
    }
   ],
   "source": [
    "# Valeurs et Nombre de valeurs distinctes\n",
    "print(df[\"Relation\"].unique())\n",
    "df[\"Relation\"].nunique()"
   ]
  },
  {
   "cell_type": "code",
   "execution_count": 78,
   "metadata": {},
   "outputs": [
    {
     "data": {
      "text/plain": [
       "Relation\n",
       "chef                  2951\n",
       "Fille                 2786\n",
       "Garçon                2764\n",
       "Homme marié           2102\n",
       "Femme mariée          2077\n",
       "                      ... \n",
       "petit fils du chef       1\n",
       "oncle du chef            1\n",
       "frère du gendre          1\n",
       "filla                    1\n",
       "prop re                  1\n",
       "Name: count, Length: 527, dtype: int64"
      ]
     },
     "execution_count": 78,
     "metadata": {},
     "output_type": "execute_result"
    }
   ],
   "source": [
    "# Étendue des valeurs, Équilibre\n",
    "df[\"Relation\"].value_counts()"
   ]
  },
  {
   "cell_type": "code",
   "execution_count": 79,
   "metadata": {},
   "outputs": [],
   "source": [
    "df['Target'] = df['Target'].replace({'Chef':True, 'Non Chef':False})"
   ]
  },
  {
   "cell_type": "code",
   "execution_count": 80,
   "metadata": {},
   "outputs": [
    {
     "data": {
      "text/html": [
       "<div>\n",
       "<style scoped>\n",
       "    .dataframe tbody tr th:only-of-type {\n",
       "        vertical-align: middle;\n",
       "    }\n",
       "\n",
       "    .dataframe tbody tr th {\n",
       "        vertical-align: top;\n",
       "    }\n",
       "\n",
       "    .dataframe thead th {\n",
       "        text-align: right;\n",
       "    }\n",
       "</style>\n",
       "<table border=\"1\" class=\"dataframe\">\n",
       "  <thead>\n",
       "    <tr style=\"text-align: right;\">\n",
       "      <th></th>\n",
       "      <th>Target</th>\n",
       "      <th>Nom</th>\n",
       "      <th>Prenom</th>\n",
       "      <th>Profession</th>\n",
       "      <th>Relation</th>\n",
       "      <th>Age</th>\n",
       "      <th>Année</th>\n",
       "      <th>Nationalité</th>\n",
       "      <th>Ville</th>\n",
       "      <th>Plus</th>\n",
       "    </tr>\n",
       "  </thead>\n",
       "  <tbody>\n",
       "    <tr>\n",
       "      <th>64</th>\n",
       "      <td>False</td>\n",
       "      <td>Chasles</td>\n",
       "      <td>Adolphe Jules Léon Sosthène</td>\n",
       "      <td>clerc de notaire</td>\n",
       "      <td>chef</td>\n",
       "      <td></td>\n",
       "      <td>1855</td>\n",
       "      <td>française</td>\n",
       "      <td>Frazé - Eure et Loir</td>\n",
       "      <td>Bourgeois</td>\n",
       "    </tr>\n",
       "    <tr>\n",
       "      <th>73</th>\n",
       "      <td>False</td>\n",
       "      <td>Idem</td>\n",
       "      <td>Georges</td>\n",
       "      <td>emp. Banque</td>\n",
       "      <td>chef</td>\n",
       "      <td></td>\n",
       "      <td>1896</td>\n",
       "      <td>idem</td>\n",
       "      <td>Blois</td>\n",
       "      <td>Natle crédit</td>\n",
       "    </tr>\n",
       "    <tr>\n",
       "      <th>249</th>\n",
       "      <td>False</td>\n",
       "      <td>Guybertier</td>\n",
       "      <td>Léon</td>\n",
       "      <td>ch de fer</td>\n",
       "      <td>chef</td>\n",
       "      <td></td>\n",
       "      <td>1865</td>\n",
       "      <td>française</td>\n",
       "      <td>La Chatre</td>\n",
       "      <td>PO</td>\n",
       "    </tr>\n",
       "    <tr>\n",
       "      <th>353</th>\n",
       "      <td>False</td>\n",
       "      <td>Moysan</td>\n",
       "      <td>François</td>\n",
       "      <td>cultivateur</td>\n",
       "      <td>chef</td>\n",
       "      <td></td>\n",
       "      <td>1867</td>\n",
       "      <td>française</td>\n",
       "      <td>idem</td>\n",
       "      <td>patron</td>\n",
       "    </tr>\n",
       "    <tr>\n",
       "      <th>452</th>\n",
       "      <td>False</td>\n",
       "      <td>Masson</td>\n",
       "      <td>Joseph</td>\n",
       "      <td>T. de pierres</td>\n",
       "      <td>Chef de ménage</td>\n",
       "      <td>43</td>\n",
       "      <td></td>\n",
       "      <td></td>\n",
       "      <td></td>\n",
       "      <td></td>\n",
       "    </tr>\n",
       "    <tr>\n",
       "      <th>...</th>\n",
       "      <td>...</td>\n",
       "      <td>...</td>\n",
       "      <td>...</td>\n",
       "      <td>...</td>\n",
       "      <td>...</td>\n",
       "      <td>...</td>\n",
       "      <td>...</td>\n",
       "      <td>...</td>\n",
       "      <td>...</td>\n",
       "      <td>...</td>\n",
       "    </tr>\n",
       "    <tr>\n",
       "      <th>25371</th>\n",
       "      <td>False</td>\n",
       "      <td>Gauthier</td>\n",
       "      <td>Auguste</td>\n",
       "      <td>prop cultivateur</td>\n",
       "      <td>chef de ménage</td>\n",
       "      <td>58</td>\n",
       "      <td></td>\n",
       "      <td></td>\n",
       "      <td></td>\n",
       "      <td></td>\n",
       "    </tr>\n",
       "    <tr>\n",
       "      <th>25374</th>\n",
       "      <td>False</td>\n",
       "      <td>Gillouin</td>\n",
       "      <td>Pierre</td>\n",
       "      <td>idem</td>\n",
       "      <td>chef de ménage</td>\n",
       "      <td>55</td>\n",
       "      <td></td>\n",
       "      <td></td>\n",
       "      <td></td>\n",
       "      <td></td>\n",
       "    </tr>\n",
       "    <tr>\n",
       "      <th>25378</th>\n",
       "      <td>False</td>\n",
       "      <td>Templier</td>\n",
       "      <td>Marie</td>\n",
       "      <td>idem</td>\n",
       "      <td>chef de ménage</td>\n",
       "      <td>40</td>\n",
       "      <td></td>\n",
       "      <td></td>\n",
       "      <td></td>\n",
       "      <td></td>\n",
       "    </tr>\n",
       "    <tr>\n",
       "      <th>25380</th>\n",
       "      <td>False</td>\n",
       "      <td>Chauvin</td>\n",
       "      <td>Louis Napoléon</td>\n",
       "      <td>idem</td>\n",
       "      <td>chef de ménage</td>\n",
       "      <td>27</td>\n",
       "      <td></td>\n",
       "      <td></td>\n",
       "      <td></td>\n",
       "      <td></td>\n",
       "    </tr>\n",
       "    <tr>\n",
       "      <th>25382</th>\n",
       "      <td>False</td>\n",
       "      <td>André</td>\n",
       "      <td>Joseph</td>\n",
       "      <td>idem</td>\n",
       "      <td>chef de ménage</td>\n",
       "      <td>62</td>\n",
       "      <td></td>\n",
       "      <td></td>\n",
       "      <td></td>\n",
       "      <td></td>\n",
       "    </tr>\n",
       "  </tbody>\n",
       "</table>\n",
       "<p>654 rows × 10 columns</p>\n",
       "</div>"
      ],
      "text/plain": [
       "      Target         Nom                       Prenom        Profession  \\\n",
       "64     False     Chasles  Adolphe Jules Léon Sosthène  clerc de notaire   \n",
       "73     False        Idem                      Georges       emp. Banque   \n",
       "249    False  Guybertier                         Léon         ch de fer   \n",
       "353    False      Moysan                     François       cultivateur   \n",
       "452    False      Masson                       Joseph     T. de pierres   \n",
       "...      ...         ...                          ...               ...   \n",
       "25371  False    Gauthier                      Auguste  prop cultivateur   \n",
       "25374  False    Gillouin                       Pierre              idem   \n",
       "25378  False    Templier                        Marie              idem   \n",
       "25380  False     Chauvin               Louis Napoléon              idem   \n",
       "25382  False       André                       Joseph              idem   \n",
       "\n",
       "             Relation Age Année Nationalité                 Ville  \\\n",
       "64               chef      1855   française  Frazé - Eure et Loir   \n",
       "73               chef      1896        idem                 Blois   \n",
       "249              chef      1865   française             La Chatre   \n",
       "353              chef      1867   française                  idem   \n",
       "452    Chef de ménage  43                                           \n",
       "...               ...  ..   ...         ...                   ...   \n",
       "25371  chef de ménage  58                                           \n",
       "25374  chef de ménage  55                                           \n",
       "25378  chef de ménage  40                                           \n",
       "25380  chef de ménage  27                                           \n",
       "25382  chef de ménage  62                                           \n",
       "\n",
       "               Plus  \n",
       "64        Bourgeois  \n",
       "73     Natle crédit  \n",
       "249              PO  \n",
       "353          patron  \n",
       "452                  \n",
       "...             ...  \n",
       "25371                \n",
       "25374                \n",
       "25378                \n",
       "25380                \n",
       "25382                \n",
       "\n",
       "[654 rows x 10 columns]"
      ]
     },
     "execution_count": 80,
     "metadata": {},
     "output_type": "execute_result"
    }
   ],
   "source": [
    "df[(df['Target']==False) & ((df['Relation'].str.startswith('ch'))|(df['Relation'].str.startswith('Ch')))]"
   ]
  },
  {
   "cell_type": "markdown",
   "metadata": {},
   "source": [
    "### Age"
   ]
  },
  {
   "cell_type": "code",
   "execution_count": 81,
   "metadata": {},
   "outputs": [
    {
     "name": "stdout",
     "output_type": "stream",
     "text": [
      "['25' '30' '24' '48' '46' '49' '40' '11' '8' '5' '45' '23' '1' '22' '16'\n",
      " '20' '32' '3' '44' '21' '27' '2' '' '1867' '9' '4' '11 mois' '29' '39'\n",
      " '37' '75' '34' '50' '47' '18' '57' '6' '59' '2 mois' '33' '31' '5 mois'\n",
      " '65' '79' '52' '74' '36' '26' '35' '12' '7' '19' '68' '38' '73' '15' '10'\n",
      " '41' '63' '53' '55' '56' '70' '62' '13' '6 semaines' '19 mois' '71' '17'\n",
      " '72' '28' '69' '46 Ⓛm. Brasp' '46 Ⓛm' '78 Ⓛm' '56 Ⓛm' '42 Ⓛv' '30 Ⓛm'\n",
      " '20 Ⓛm' '49 Ⓛm' '45 Ⓛm' '7 mois' '66 Ⓛm St Ségal' '64 Ⓛm Dinéault'\n",
      " '32 ⓁSt Ségal' '28 Ⓛidem' '27 Ⓛidem' '54' '18 mois' '60' '14' '43' '77'\n",
      " '4 mois' '58' '61' '89' '10 mois' '42' '86' '80' '66' '87' '82' '51'\n",
      " '52 1⁇2' '3 1⁇2' '17 1⁇2' '1 1⁇2' '78' '67' '64' '7 jours' '76' '9 mois'\n",
      " '6 mois' '90' '1859' '1904' '92' '7 semaines' '8 mois' '2 ans et demi'\n",
      " '9 ans' '68 ans' '29 ans' '6 ans' '2 ans' '81 ans' '40 ans' '55 ans'\n",
      " '24 ans' '19 ans' '15 ans' '54 Ⓛ50' '21 Ⓛ51' '25 Ⓛ52' '26 Ⓛ53' '27 Ⓛ54'\n",
      " '12 Ⓛ55' '65 Ⓛ56' '32 Ⓛ57' '38 Ⓛ58' '37 Ⓛ59' '20 mois' '17 Ⓛ60' '15 Ⓛ61'\n",
      " '33 Ⓛ62' '38 Ⓛ63' '36 Ⓛ65' '34 Ⓛ78366' '83' '3 mois' '16 ans' '10 ans'\n",
      " '47 ans' '23 ans' '21 ans' '20 ans' '52 ans' '36 ans' '13 ans' '12 ans'\n",
      " '3 ans' '62 ans' '32 ans' '15 jours' '41 ans' '45 ans' '18 ans' '31 ans'\n",
      " '51 ans' '25 ans' '22 Ⓛidem' '64 Ⓛ26' '68 Ⓛ27' '57 Ⓛ28' '30 Ⓛ29' '50 Ⓛ30'\n",
      " '20 Ⓛ31' '30 Ⓛ32' '25 Ⓛ33' '61 Ⓛ34' '61 Ⓛ35' '34 Ⓛ36' '43 Ⓛ37' '63 Ⓛ38'\n",
      " '61 Ⓛ39' '28 Ⓛ40' '39 Ⓛ41' '23 Ⓛ42' '60 Ⓛ43' '50 Ⓛ44' '61 Ⓛ45' '60 Ⓛ46'\n",
      " '57 Ⓛ47' '24 Ⓛ78348' '1883' '1844' '1878' '15 mois' '10 jour' '42 ans'\n",
      " '85' '1874' '17 mois' '1882' '84' '1 mois' '4 ans' '28 mois' 'idem'\n",
      " '3 1/2' '188' '1 jour' '8 ans et demi' '3 mois et demi' '14 1/2' '12 1/2'\n",
      " '4 1/2' '1869' '2 ans 1/2' '14 et demi' '88' '94' '64 Ⓛpatron' '22 mois'\n",
      " '14 mois' '20 jours' '1914' 'fille' '77 Ⓛm' '70 Ⓛm' '41 Ⓛm' '27 Ⓛm'\n",
      " '22 Ⓛm' '57 Ⓛm' '50 Ⓛm' '1928' '14 jours' '21 mois' '8 jours' 'un mois'\n",
      " '9 jours' '5 jours' '3.5' '8.5' '13.5' '81' '455' '16 mois' '4 jours'\n",
      " '3 jours' '6 mpis' '48 jours' '98' '6 ⓁReims' '2 Ⓛidem'\n",
      " '59 Ⓛchamouilley H.' '48 ⓁBelfor HR.' '16 Ⓛlans' '13 ⓁReims'\n",
      " '59 ⓁMulhouse' '10 ⓁReims' '34 ⓁBlénod les' '4 ⓁLigny en Cambresis'\n",
      " '25 ⓁThillot' '20 ⓁReims' '27 mois' '96' '1852' '1894' '35 ans' '41 ⓁP'\n",
      " '1880' '50 ⓁRoche' '18 Ⓛidem' '20 Ⓛidem' '12 Ⓛidem' '8 Ⓛidem' '48 ⓁRoche'\n",
      " '47 ⓁVarey' '18 ⓁRoche' '80 ⓁVarey' '30 ⓁRoche' '1 mois Ⓛidem'\n",
      " '56 ⓁRoche' '23 Ⓛidem' '21 Ⓛidem' '11 Ⓛidem' '37 ⓁChamalières'\n",
      " '37 ⓁRoche' '10 Ⓛidem' '7 Ⓛidem' '48 ⓁMabreurs' '36 ⓁPertuis' '13 Ⓛidem'\n",
      " '16 Ⓛidem' '42 ⓁSalettes' 'un an et demi' '42 ⓁRoche' '3 ⓁRoche' '2 Ⓛid'\n",
      " '1 Ⓛid' '37 Ⓛid' '36 ⓁRosières' '14 ⓁRoche' '13 Ⓛid' '10 Ⓛid' '7 Ⓛid'\n",
      " '3 Ⓛid' '75 ⓁChamalières' '30 Ⓛmarié' '1 Ⓛenfant en nourrice' '1908'\n",
      " '28 ans' '43 ans' '60ans' '8 ans' '77 ans' '14 ans' '65 ans' '26 ans'\n",
      " '1an+1/2' '54 ans' '60 ans' '39 ans' '73 ans' '5 ans' '55 a' '46 ans'\n",
      " '57 ans' '17 ans' '61 ans' '1 an' '38 ans' '30 ans' '7 ans' '50 ans'\n",
      " '83 ans' '69 ans' '59 ans' '66 ans' '70 ans' '48 ans' '11 ans' 'mois'\n",
      " '72 ans' '1 ans 1/2' '633' '1 an 9 mois' '1 an 6 mois' '14 Ⓛabsente'\n",
      " '2.5' '23 mois' '72 Ⓛveuve' '60 Ⓛveuve Margueris' '1 an 1/2' '3 semaines'\n",
      " '1888' 'un mois 1/2' '63 Ⓛsecourue' '1870' '13 mois' '1865' '97' '91'\n",
      " '37 ans' '10 mpis' \"1'\" '12 jours']\n"
     ]
    },
    {
     "data": {
      "text/plain": [
       "371"
      ]
     },
     "execution_count": 81,
     "metadata": {},
     "output_type": "execute_result"
    }
   ],
   "source": [
    "# Valeurs et Nombre de valeurs distinctes\n",
    "print(df[\"Age\"].unique())\n",
    "df[\"Age\"].nunique()"
   ]
  },
  {
   "cell_type": "code",
   "execution_count": 82,
   "metadata": {},
   "outputs": [
    {
     "data": {
      "text/plain": [
       "Age\n",
       "             8639\n",
       "2             334\n",
       "8             329\n",
       "18            328\n",
       "6             322\n",
       "             ... \n",
       "60 Ⓛ46          1\n",
       "57 Ⓛ47          1\n",
       "24 Ⓛ78348       1\n",
       "1883            1\n",
       "52 1⁇2          1\n",
       "Name: count, Length: 371, dtype: int64"
      ]
     },
     "execution_count": 82,
     "metadata": {},
     "output_type": "execute_result"
    }
   ],
   "source": [
    "df['Age'].value_counts()"
   ]
  },
  {
   "cell_type": "markdown",
   "metadata": {},
   "source": [
    "### Année"
   ]
  },
  {
   "cell_type": "code",
   "execution_count": 83,
   "metadata": {},
   "outputs": [
    {
     "name": "stdout",
     "output_type": "stream",
     "text": [
      "['' '1905' '1908' '1877' '1878' '1906' '1910' '1879' '1883' '1888' '1872'\n",
      " '1874' '1900' '1901' '1907' '1909' '1860' '1869' '1889' '1881' '1904'\n",
      " '1849' '1850' '1855' '1826' '1856' '1853' '1920' '1863' '1902' '1847'\n",
      " '1896' '1865' '1864' '1884' '1882' '1886' '1894' '1893' '1876' '1857'\n",
      " '1870' '1873' '1838' '1844' '1842' '1880' '1887' '1891' '1897' '1898'\n",
      " '1868' '1912' '1911' '1913' '1918' '1885' '1914' '1867' '1861' '1875'\n",
      " '1919' '1921' '1922' '1923' '1929' '1930' '1862' '1924' '1925' '1927'\n",
      " '1928' '1890' '1851' '1858' '1903' '1934' '1835' '1854' '1871' '1895'\n",
      " '1892' '1935' '1859' '1932' '1931' '1933' '1936' '1917' '1866' '1899'\n",
      " '1839' '1837' '18599' '1823' '1845' '1840' '1848' '4' '1843' '1915'\n",
      " '1926' '1836' '1832' '1852' '1831' '1830' '1829' '1846' '1828' '1841'\n",
      " '1824' '1916' '1827' '1820' '1794' '1821' '1784' '1812' '1833' '1978'\n",
      " '1991' '1834' '1?' 'Y1910' '1790' '1987' '1988' 'française' '31' '1938'\n",
      " '1765' '52' '49' '1977' '1940' '14' '7' '1966' '3 1/2 ans' '1809' '71'\n",
      " '18896' '37' '5' '70' '69' '1813' 'idem' '1815' '18760' '43' '4 mois'\n",
      " '1950' '1822' '1849i' '1814' '1807' '65']\n"
     ]
    },
    {
     "data": {
      "text/plain": [
       "159"
      ]
     },
     "execution_count": 83,
     "metadata": {},
     "output_type": "execute_result"
    }
   ],
   "source": [
    "# Valeurs et Nombre de valeurs distinctes\n",
    "print(df[\"Année\"].unique())\n",
    "df[\"Année\"].nunique()"
   ]
  },
  {
   "cell_type": "code",
   "execution_count": 84,
   "metadata": {},
   "outputs": [
    {
     "data": {
      "text/plain": [
       "Année\n",
       "         17731\n",
       "1901       138\n",
       "1905       133\n",
       "1902       126\n",
       "1903       124\n",
       "         ...  \n",
       "1822         1\n",
       "1849i        1\n",
       "70           1\n",
       "5            1\n",
       "65           1\n",
       "Name: count, Length: 159, dtype: int64"
      ]
     },
     "execution_count": 84,
     "metadata": {},
     "output_type": "execute_result"
    }
   ],
   "source": [
    "df['Année'].value_counts()"
   ]
  },
  {
   "cell_type": "markdown",
   "metadata": {},
   "source": [
    "### Profession"
   ]
  },
  {
   "cell_type": "code",
   "execution_count": 89,
   "metadata": {},
   "outputs": [
    {
     "name": "stdout",
     "output_type": "stream",
     "text": [
      "['menuisier' 'vitrier' 'prop re' ... 'm de foraine' 'rept com ce'\n",
      " 'employé enregistrement']\n"
     ]
    },
    {
     "data": {
      "text/plain": [
       "2061"
      ]
     },
     "execution_count": 89,
     "metadata": {},
     "output_type": "execute_result"
    }
   ],
   "source": [
    "# Valeurs et Nombre de valeurs distinctes\n",
    "print(df[\"Profession\"].unique())\n",
    "df[\"Profession\"].nunique()"
   ]
  },
  {
   "cell_type": "code",
   "execution_count": 90,
   "metadata": {},
   "outputs": [
    {
     "data": {
      "text/plain": [
       "Profession\n",
       "                                8896\n",
       "idem                            3694\n",
       "cultivateur                     1021\n",
       "néant                            919\n",
       "s.p                              564\n",
       "                                ... \n",
       "commis greffier                    1\n",
       "employée de bureau                 1\n",
       "employée assurances sociales       1\n",
       "contre maitre                      1\n",
       "cond au ch de fer                  1\n",
       "Name: count, Length: 2061, dtype: int64"
      ]
     },
     "execution_count": 90,
     "metadata": {},
     "output_type": "execute_result"
    }
   ],
   "source": [
    "df['Profession'].value_counts()"
   ]
  }
 ],
 "metadata": {
  "kernelspec": {
   "display_name": "base",
   "language": "python",
   "name": "python3"
  },
  "language_info": {
   "codemirror_mode": {
    "name": "ipython",
    "version": 3
   },
   "file_extension": ".py",
   "mimetype": "text/x-python",
   "name": "python",
   "nbconvert_exporter": "python",
   "pygments_lexer": "ipython3",
   "version": "3.11.6"
  }
 },
 "nbformat": 4,
 "nbformat_minor": 2
}
