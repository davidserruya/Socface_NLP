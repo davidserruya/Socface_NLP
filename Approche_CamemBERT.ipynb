{
 "cells": [
  {
   "cell_type": "code",
   "execution_count": 1,
   "metadata": {},
   "outputs": [],
   "source": [
    "import json\n",
    "import re\n",
    "import pandas as pd\n",
    "import numpy as np\n",
    "from sklearn.model_selection import train_test_split\n",
    "from sklearn.metrics import classification_report, confusion_matrix\n",
    "import matplotlib.pyplot as plt\n",
    "import seaborn as sns\n",
    "from sklearn.metrics import f1_score,precision_score, recall_score\n",
    "import torch\n",
    "from sklearn.metrics import accuracy_score, f1_score, precision_score, recall_score, confusion_matrix\n",
    "from transformers import CamembertForSequenceClassification, CamembertTokenizer, TrainingArguments, Trainer\n",
    "from sklearn.model_selection import train_test_split\n",
    "from torch.utils.data import Dataset, DataLoader"
   ]
  },
  {
   "cell_type": "code",
   "execution_count": 3,
   "metadata": {},
   "outputs": [],
   "source": [
    "def extract_info(json_file):\n",
    "\n",
    "    data_list = []\n",
    "    # Charger le fichier JSON\n",
    "    with open(json_file, 'r') as f:\n",
    "        data = json.load(f)\n",
    "\n",
    "    # Parcourir chaque élément du JSON\n",
    "    for img, info in data.items():\n",
    "        # Diviser les informations en lignes en séparant par \"\\n\"\n",
    "        lines = info.split(\"\\n\")\n",
    "\n",
    "        # Parcourir chaque ligne\n",
    "        for line in lines:\n",
    "            # Retirer les éléments vides résultant de la division\n",
    "            elements = re.findall(r\"[\\S\\s]*?(?=Ⓟ|Ⓞ|Ⓕ|Ⓜ|Ⓐ|Ⓒ|Ⓚ|Ⓑ|Ⓘ|Ⓗ|Ⓔ|$)\", line)\n",
    "            elements = [element.strip() for element in elements if element.strip()]\n",
    "            target, nom, prenom, profession, lien, age, annee, nationalite, ville, biz = \"\", \"\", \"\", \"\", \"\", \"\", \"\", \"\", \"\", \"\"\n",
    "            for element in elements:\n",
    "                # Supprimer les logos de la colonne \"nom\"\n",
    "                #element = element.replace('Ⓞ', '').replace('Ⓟ', '')  # Supprimer les logos Ⓞ et Ⓟ\n",
    "                if 'Ⓟ' in element:\n",
    "                    target=True\n",
    "                    nom=element.replace('Ⓟ', '')\n",
    "                elif 'Ⓞ' in element:\n",
    "                    target=False\n",
    "                    nom=element.replace('Ⓞ', '')\n",
    "                elif 'Ⓕ' in element:\n",
    "                    prenom=element.replace('Ⓕ', '')\n",
    "                elif 'Ⓜ' in element:\n",
    "                    profession=element.replace('Ⓜ', '')\n",
    "                elif 'Ⓐ' in element:\n",
    "                    age=element.replace('Ⓐ', '')\n",
    "                elif 'Ⓚ' in element:\n",
    "                    nationalite=element.replace('Ⓚ', '')\n",
    "                elif 'Ⓑ' in element:\n",
    "                    annee=element.replace('Ⓑ', '')\n",
    "                elif 'Ⓘ' in element:\n",
    "                    ville=element.replace('Ⓘ', '')\n",
    "                elif 'Ⓗ' in element or 'Ⓒ' in element:\n",
    "                    if 'Ⓛ' in element:\n",
    "                        element=element.replace('Ⓗ', '').replace('Ⓒ', '')\n",
    "                        lien=element.split('Ⓛ', 1)[0]\n",
    "                    else:\n",
    "                        lien=element.replace('Ⓗ', '').replace('Ⓒ', '') \n",
    "                elif 'Ⓔ' in element:\n",
    "                    biz=element.replace('Ⓔ', '')\n",
    "\n",
    "                    \n",
    "            # Stocker les données dans un dictionnaire\n",
    "            data_dict = {'Target': target, 'Nom': nom, 'Prenom': prenom, 'Profession': profession,\n",
    "                            'Relation': lien, 'Age': age,'Année':annee, 'Nationalité': nationalite, 'Ville': ville, 'Plus':biz}\n",
    "            # Ajouter le dictionnaire à la liste\n",
    "            data_list.append(data_dict)\n",
    "\n",
    "    return pd.DataFrame(data_list)"
   ]
  },
  {
   "cell_type": "code",
   "execution_count": 3,
   "metadata": {},
   "outputs": [
    {
     "data": {
      "text/html": [
       "<div>\n",
       "<style scoped>\n",
       "    .dataframe tbody tr th:only-of-type {\n",
       "        vertical-align: middle;\n",
       "    }\n",
       "\n",
       "    .dataframe tbody tr th {\n",
       "        vertical-align: top;\n",
       "    }\n",
       "\n",
       "    .dataframe thead th {\n",
       "        text-align: right;\n",
       "    }\n",
       "</style>\n",
       "<table border=\"1\" class=\"dataframe\">\n",
       "  <thead>\n",
       "    <tr style=\"text-align: right;\">\n",
       "      <th></th>\n",
       "      <th>Target</th>\n",
       "      <th>Nom</th>\n",
       "      <th>Prenom</th>\n",
       "      <th>Profession</th>\n",
       "      <th>Relation</th>\n",
       "      <th>Age</th>\n",
       "      <th>Année</th>\n",
       "      <th>Nationalité</th>\n",
       "      <th>Ville</th>\n",
       "      <th>Plus</th>\n",
       "    </tr>\n",
       "  </thead>\n",
       "  <tbody>\n",
       "    <tr>\n",
       "      <th>0</th>\n",
       "      <td>False</td>\n",
       "      <td>Breton</td>\n",
       "      <td>Cyrille</td>\n",
       "      <td>menuisier</td>\n",
       "      <td>Garçon</td>\n",
       "      <td>25</td>\n",
       "      <td></td>\n",
       "      <td>française</td>\n",
       "      <td></td>\n",
       "      <td></td>\n",
       "    </tr>\n",
       "    <tr>\n",
       "      <th>1</th>\n",
       "      <td>True</td>\n",
       "      <td>Ferazzi</td>\n",
       "      <td>Auguste</td>\n",
       "      <td>vitrier</td>\n",
       "      <td>Garçon</td>\n",
       "      <td>30</td>\n",
       "      <td></td>\n",
       "      <td>Piémontaise</td>\n",
       "      <td></td>\n",
       "      <td></td>\n",
       "    </tr>\n",
       "    <tr>\n",
       "      <th>2</th>\n",
       "      <td>True</td>\n",
       "      <td>Machol</td>\n",
       "      <td>Pierre</td>\n",
       "      <td>vitrier</td>\n",
       "      <td>Garçon</td>\n",
       "      <td>24</td>\n",
       "      <td></td>\n",
       "      <td>Piémontaise</td>\n",
       "      <td></td>\n",
       "      <td></td>\n",
       "    </tr>\n",
       "    <tr>\n",
       "      <th>3</th>\n",
       "      <td>True</td>\n",
       "      <td>Desbois</td>\n",
       "      <td>Alexandre</td>\n",
       "      <td>prop re</td>\n",
       "      <td>Homme marié</td>\n",
       "      <td>48</td>\n",
       "      <td></td>\n",
       "      <td>française</td>\n",
       "      <td></td>\n",
       "      <td></td>\n",
       "    </tr>\n",
       "    <tr>\n",
       "      <th>4</th>\n",
       "      <td>False</td>\n",
       "      <td>Vignat</td>\n",
       "      <td>Zélie</td>\n",
       "      <td>prop re</td>\n",
       "      <td>sa fe</td>\n",
       "      <td>30</td>\n",
       "      <td></td>\n",
       "      <td>française</td>\n",
       "      <td></td>\n",
       "      <td></td>\n",
       "    </tr>\n",
       "  </tbody>\n",
       "</table>\n",
       "</div>"
      ],
      "text/plain": [
       "  Target      Nom     Prenom Profession     Relation Age Année  Nationalité  \\\n",
       "0  False   Breton    Cyrille  menuisier       Garçon  25          française   \n",
       "1   True  Ferazzi    Auguste    vitrier       Garçon  30        Piémontaise   \n",
       "2   True   Machol     Pierre    vitrier       Garçon  24        Piémontaise   \n",
       "3   True  Desbois  Alexandre    prop re  Homme marié  48          française   \n",
       "4  False   Vignat      Zélie    prop re        sa fe  30          française   \n",
       "\n",
       "  Ville Plus  \n",
       "0             \n",
       "1             \n",
       "2             \n",
       "3             \n",
       "4             "
      ]
     },
     "execution_count": 3,
     "metadata": {},
     "output_type": "execute_result"
    }
   ],
   "source": [
    "# Chemin vers le fichier JSON\n",
    "json_file = \"entities.json\"\n",
    "\n",
    "# Appeler la fonction pour extraire les informations et créer le dataset\n",
    "df=extract_info(json_file)\n",
    "\n",
    "df.head()"
   ]
  },
  {
   "cell_type": "code",
   "execution_count": 4,
   "metadata": {},
   "outputs": [],
   "source": [
    "# Enlever les lignes vides\n",
    "df=df[(df['Prenom']!='') & ((df['Target']==True)|(df['Target']==False))]"
   ]
  },
  {
   "cell_type": "code",
   "execution_count": 5,
   "metadata": {},
   "outputs": [],
   "source": [
    "# Enlever les lignes où il y a chef et l'etiquette est false\n",
    "index_to_drop = df[(df['Target'] == False) & ((df['Relation'].str.startswith('ch')) | (df['Relation'].str.startswith('Ch')))].index\n",
    "df = df.drop(index_to_drop)"
   ]
  },
  {
   "cell_type": "code",
   "execution_count": 6,
   "metadata": {},
   "outputs": [],
   "source": [
    "def create_description_column(df):\n",
    "    df['Description'] = \"\"\n",
    "    for index, row in df.iterrows():\n",
    "        if row['Prenom']!='':\n",
    "            description = row['Prenom'] + \" \" + row['Nom'] + \" \" \n",
    "        if row['Age']!='':\n",
    "            description += row['Age'] + \" \"\n",
    "        if row['Nationalité']!='':\n",
    "            description += row['Nationalité'] + \" \"\n",
    "        if row['Profession']!='':\n",
    "            description += row['Profession'] + \" \"\n",
    "        if row['Relation']!='':\n",
    "            description += row['Relation'] + \" \"\n",
    "        if row['Ville']!='':\n",
    "            description += row['Ville'] + \" \"\n",
    "        df.at[index, 'Description'] = description\n",
    "\n",
    "    return df\n",
    "\n",
    "# Appel de la fonction pour créer la nouvelle colonne et la mettre au format str\n",
    "df = create_description_column(df)\n",
    "df['Description'] = df['Description'].astype(str)"
   ]
  },
  {
   "cell_type": "code",
   "execution_count": 7,
   "metadata": {},
   "outputs": [
    {
     "data": {
      "text/html": [
       "<div>\n",
       "<style scoped>\n",
       "    .dataframe tbody tr th:only-of-type {\n",
       "        vertical-align: middle;\n",
       "    }\n",
       "\n",
       "    .dataframe tbody tr th {\n",
       "        vertical-align: top;\n",
       "    }\n",
       "\n",
       "    .dataframe thead th {\n",
       "        text-align: right;\n",
       "    }\n",
       "</style>\n",
       "<table border=\"1\" class=\"dataframe\">\n",
       "  <thead>\n",
       "    <tr style=\"text-align: right;\">\n",
       "      <th></th>\n",
       "      <th>Target</th>\n",
       "      <th>Nom</th>\n",
       "      <th>Prenom</th>\n",
       "      <th>Profession</th>\n",
       "      <th>Relation</th>\n",
       "      <th>Age</th>\n",
       "      <th>Année</th>\n",
       "      <th>Nationalité</th>\n",
       "      <th>Ville</th>\n",
       "      <th>Plus</th>\n",
       "      <th>Description</th>\n",
       "    </tr>\n",
       "  </thead>\n",
       "  <tbody>\n",
       "    <tr>\n",
       "      <th>0</th>\n",
       "      <td>False</td>\n",
       "      <td>Breton</td>\n",
       "      <td>Cyrille</td>\n",
       "      <td>menuisier</td>\n",
       "      <td>Garçon</td>\n",
       "      <td>25</td>\n",
       "      <td></td>\n",
       "      <td>française</td>\n",
       "      <td></td>\n",
       "      <td></td>\n",
       "      <td>Cyrille Breton 25 française menuisier Garçon</td>\n",
       "    </tr>\n",
       "    <tr>\n",
       "      <th>1</th>\n",
       "      <td>True</td>\n",
       "      <td>Ferazzi</td>\n",
       "      <td>Auguste</td>\n",
       "      <td>vitrier</td>\n",
       "      <td>Garçon</td>\n",
       "      <td>30</td>\n",
       "      <td></td>\n",
       "      <td>Piémontaise</td>\n",
       "      <td></td>\n",
       "      <td></td>\n",
       "      <td>Auguste Ferazzi 30 Piémontaise vitrier Garçon</td>\n",
       "    </tr>\n",
       "    <tr>\n",
       "      <th>2</th>\n",
       "      <td>True</td>\n",
       "      <td>Machol</td>\n",
       "      <td>Pierre</td>\n",
       "      <td>vitrier</td>\n",
       "      <td>Garçon</td>\n",
       "      <td>24</td>\n",
       "      <td></td>\n",
       "      <td>Piémontaise</td>\n",
       "      <td></td>\n",
       "      <td></td>\n",
       "      <td>Pierre Machol 24 Piémontaise vitrier Garçon</td>\n",
       "    </tr>\n",
       "    <tr>\n",
       "      <th>3</th>\n",
       "      <td>True</td>\n",
       "      <td>Desbois</td>\n",
       "      <td>Alexandre</td>\n",
       "      <td>prop re</td>\n",
       "      <td>Homme marié</td>\n",
       "      <td>48</td>\n",
       "      <td></td>\n",
       "      <td>française</td>\n",
       "      <td></td>\n",
       "      <td></td>\n",
       "      <td>Alexandre Desbois 48 française prop re Homme m...</td>\n",
       "    </tr>\n",
       "    <tr>\n",
       "      <th>4</th>\n",
       "      <td>False</td>\n",
       "      <td>Vignat</td>\n",
       "      <td>Zélie</td>\n",
       "      <td>prop re</td>\n",
       "      <td>sa fe</td>\n",
       "      <td>30</td>\n",
       "      <td></td>\n",
       "      <td>française</td>\n",
       "      <td></td>\n",
       "      <td></td>\n",
       "      <td>Zélie Vignat 30 française prop re sa fe</td>\n",
       "    </tr>\n",
       "  </tbody>\n",
       "</table>\n",
       "</div>"
      ],
      "text/plain": [
       "  Target      Nom     Prenom Profession     Relation Age Année  Nationalité  \\\n",
       "0  False   Breton    Cyrille  menuisier       Garçon  25          française   \n",
       "1   True  Ferazzi    Auguste    vitrier       Garçon  30        Piémontaise   \n",
       "2   True   Machol     Pierre    vitrier       Garçon  24        Piémontaise   \n",
       "3   True  Desbois  Alexandre    prop re  Homme marié  48          française   \n",
       "4  False   Vignat      Zélie    prop re        sa fe  30          française   \n",
       "\n",
       "  Ville Plus                                        Description  \n",
       "0                 Cyrille Breton 25 française menuisier Garçon   \n",
       "1                Auguste Ferazzi 30 Piémontaise vitrier Garçon   \n",
       "2                  Pierre Machol 24 Piémontaise vitrier Garçon   \n",
       "3             Alexandre Desbois 48 française prop re Homme m...  \n",
       "4                      Zélie Vignat 30 française prop re sa fe   "
      ]
     },
     "execution_count": 7,
     "metadata": {},
     "output_type": "execute_result"
    }
   ],
   "source": [
    "df.head()"
   ]
  },
  {
   "cell_type": "code",
   "execution_count": 8,
   "metadata": {},
   "outputs": [],
   "source": [
    "# Diviser les données en ensembles d'entraînement et de test\n",
    "train_data, test_data = train_test_split(df, test_size=0.2, random_state=42)"
   ]
  },
  {
   "cell_type": "code",
   "execution_count": 9,
   "metadata": {},
   "outputs": [
    {
     "name": "stderr",
     "output_type": "stream",
     "text": [
      "Special tokens have been added in the vocabulary, make sure the associated word embeddings are fine-tuned or trained.\n",
      "Some weights of CamembertForSequenceClassification were not initialized from the model checkpoint at camembert-base and are newly initialized: ['classifier.dense.bias', 'classifier.dense.weight', 'classifier.out_proj.bias', 'classifier.out_proj.weight']\n",
      "You should probably TRAIN this model on a down-stream task to be able to use it for predictions and inference.\n"
     ]
    }
   ],
   "source": [
    "# Initialiser le tokenizer et le modèle\n",
    "tokenizer = CamembertTokenizer.from_pretrained('camembert-base')\n",
    "model = CamembertForSequenceClassification.from_pretrained('camembert-base', num_labels=2)"
   ]
  },
  {
   "cell_type": "code",
   "execution_count": 10,
   "metadata": {},
   "outputs": [],
   "source": [
    "# Créer notre jeu de données du modèle\n",
    "class CustomDataset(Dataset):\n",
    "    def __init__(self, data, tokenizer, max_length):\n",
    "        self.data = data\n",
    "        self.tokenizer = tokenizer\n",
    "        self.max_length = max_length\n",
    "\n",
    "    def __len__(self):\n",
    "        return len(self.data)\n",
    "\n",
    "    def __getitem__(self, idx):\n",
    "        text = self.data.iloc[idx]['Description']\n",
    "        label = self.data.iloc[idx]['Target']\n",
    "\n",
    "        encoding = self.tokenizer(text, padding='max_length', truncation=True, max_length=self.max_length, return_tensors='pt')\n",
    "        input_ids = encoding['input_ids'].squeeze()\n",
    "        attention_mask = encoding['attention_mask'].squeeze()\n",
    "\n",
    "        return {\n",
    "            'input_ids': input_ids,\n",
    "            'attention_mask': attention_mask,\n",
    "            'labels': torch.tensor(label, dtype=torch.long)\n",
    "        }"
   ]
  },
  {
   "cell_type": "code",
   "execution_count": 11,
   "metadata": {},
   "outputs": [],
   "source": [
    "# Prétraitement des données\n",
    "max_length = 128 \n",
    "train_dataset = CustomDataset(train_data[0:10000], tokenizer, max_length)\n",
    "test_dataset = CustomDataset(test_data, tokenizer, max_length)"
   ]
  },
  {
   "cell_type": "code",
   "execution_count": 12,
   "metadata": {},
   "outputs": [],
   "source": [
    "# Entraînement du modèle\n",
    "training_args = TrainingArguments(\n",
    "    output_dir='./output',\n",
    "    per_device_train_batch_size=8,\n",
    "    per_device_eval_batch_size=8,\n",
    "    num_train_epochs=3,\n",
    "    logging_dir='./logs',\n",
    "    logging_steps=10,\n",
    "    evaluation_strategy='epoch',\n",
    ")"
   ]
  },
  {
   "cell_type": "code",
   "execution_count": 16,
   "metadata": {},
   "outputs": [],
   "source": [
    "# Fonction pour calculer les métriques \n",
    "metric_name_list = ['accuracy', 'f1', 'precision', 'recall']\n",
    "\n",
    "def compute_metrics(pred):\n",
    "    labels = pred.label_ids\n",
    "    preds = pred.predictions.argmax(-1)\n",
    "    f1 = f1_score(labels, preds)\n",
    "    accuracy = accuracy_score(labels, preds)\n",
    "    precision = precision_score(labels, preds)\n",
    "    recall = recall_score(labels, preds)\n",
    "    \n",
    "    return {\n",
    "        'accuracy': accuracy,\n",
    "        'f1': f1,\n",
    "        'precision': precision,\n",
    "        'recall': recall\n",
    "    }"
   ]
  },
  {
   "cell_type": "code",
   "execution_count": 17,
   "metadata": {},
   "outputs": [],
   "source": [
    "# Entraînement du modèle avec les métriques \n",
    "trainer = Trainer(\n",
    "    model=model,\n",
    "    args=training_args,\n",
    "    train_dataset=train_dataset,\n",
    "    eval_dataset=test_dataset,\n",
    "    compute_metrics=compute_metrics\n",
    ")"
   ]
  },
  {
   "cell_type": "code",
   "execution_count": 18,
   "metadata": {},
   "outputs": [
    {
     "data": {
      "text/html": [
       "\n",
       "    <div>\n",
       "      \n",
       "      <progress value='3750' max='3750' style='width:300px; height:20px; vertical-align: middle;'></progress>\n",
       "      [3750/3750 49:04, Epoch 3/3]\n",
       "    </div>\n",
       "    <table border=\"1\" class=\"dataframe\">\n",
       "  <thead>\n",
       " <tr style=\"text-align: left;\">\n",
       "      <th>Epoch</th>\n",
       "      <th>Training Loss</th>\n",
       "      <th>Validation Loss</th>\n",
       "      <th>Accuracy</th>\n",
       "      <th>F1</th>\n",
       "      <th>Precision</th>\n",
       "      <th>Recall</th>\n",
       "    </tr>\n",
       "  </thead>\n",
       "  <tbody>\n",
       "    <tr>\n",
       "      <td>1</td>\n",
       "      <td>0.117200</td>\n",
       "      <td>0.161354</td>\n",
       "      <td>0.948211</td>\n",
       "      <td>0.887686</td>\n",
       "      <td>0.867725</td>\n",
       "      <td>0.908587</td>\n",
       "    </tr>\n",
       "    <tr>\n",
       "      <td>2</td>\n",
       "      <td>0.108600</td>\n",
       "      <td>0.193073</td>\n",
       "      <td>0.947379</td>\n",
       "      <td>0.884948</td>\n",
       "      <td>0.871864</td>\n",
       "      <td>0.898430</td>\n",
       "    </tr>\n",
       "    <tr>\n",
       "      <td>3</td>\n",
       "      <td>0.084600</td>\n",
       "      <td>0.179050</td>\n",
       "      <td>0.947379</td>\n",
       "      <td>0.885365</td>\n",
       "      <td>0.869217</td>\n",
       "      <td>0.902124</td>\n",
       "    </tr>\n",
       "  </tbody>\n",
       "</table><p>"
      ],
      "text/plain": [
       "<IPython.core.display.HTML object>"
      ]
     },
     "metadata": {},
     "output_type": "display_data"
    },
    {
     "data": {
      "text/plain": [
       "TrainOutput(global_step=3750, training_loss=0.1466537136832873, metrics={'train_runtime': 2945.728, 'train_samples_per_second': 10.184, 'train_steps_per_second': 1.273, 'total_flos': 1973332915200000.0, 'train_loss': 0.1466537136832873, 'epoch': 3.0})"
      ]
     },
     "execution_count": 18,
     "metadata": {},
     "output_type": "execute_result"
    }
   ],
   "source": [
    "# Entrainer le modèle\n",
    "trainer.train()"
   ]
  },
  {
   "cell_type": "code",
   "execution_count": 19,
   "metadata": {},
   "outputs": [
    {
     "data": {
      "text/html": [
       "\n",
       "    <div>\n",
       "      \n",
       "      <progress value='601' max='601' style='width:300px; height:20px; vertical-align: middle;'></progress>\n",
       "      [601/601 01:57]\n",
       "    </div>\n",
       "    "
      ],
      "text/plain": [
       "<IPython.core.display.HTML object>"
      ]
     },
     "metadata": {},
     "output_type": "display_data"
    }
   ],
   "source": [
    "# Évaluation du modèle \n",
    "results = trainer.evaluate(eval_dataset=test_dataset)"
   ]
  },
  {
   "cell_type": "code",
   "execution_count": 21,
   "metadata": {},
   "outputs": [
    {
     "name": "stdout",
     "output_type": "stream",
     "text": [
      "Accuracy: 0.9473793677204659\n",
      "F1-score: 0.8853647485274128\n",
      "Precision: 0.8692170818505338\n",
      "Recall: 0.9021237303785781\n"
     ]
    }
   ],
   "source": [
    "print(\"Accuracy:\", results['eval_accuracy'])\n",
    "print(\"F1-score:\", results['eval_f1'])\n",
    "print(\"Precision:\", results['eval_precision'])\n",
    "print(\"Recall:\", results['eval_recall'])"
   ]
  },
  {
   "cell_type": "markdown",
   "metadata": {},
   "source": [
    "## Piste d'amélioration: Description contextuelle"
   ]
  },
  {
   "cell_type": "code",
   "execution_count": 4,
   "metadata": {},
   "outputs": [],
   "source": [
    "# Chemin vers le fichier JSON\n",
    "json_file = \"entities.json\"\n",
    "\n",
    "# Appeler la fonction pour extraire les informations et créer le dataset\n",
    "df=extract_info(json_file)"
   ]
  },
  {
   "cell_type": "code",
   "execution_count": 5,
   "metadata": {},
   "outputs": [],
   "source": [
    "# Enlever les lignes vides\n",
    "df=df[(df['Prenom']!='') & ((df['Target']==True)|(df['Target']==False))]\n",
    "\n",
    "# Enlever les lignes où il y a chef et l'etiquette est false\n",
    "index_to_drop = df[(df['Target'] == False) & ((df['Relation'].str.startswith('ch')) | (df['Relation'].str.startswith('Ch')))].index\n",
    "df = df.drop(index_to_drop)"
   ]
  },
  {
   "cell_type": "code",
   "execution_count": 6,
   "metadata": {},
   "outputs": [],
   "source": [
    "def create_description_column(df):\n",
    "    df['Description'] = \"\"\n",
    "    for index, row in df.iterrows():\n",
    "        if row['Prenom']!='':\n",
    "            description = \"La personne s'appelle \" + row['Prenom'] + \" \" + row['Nom'] + \",\"\n",
    "        if row['Age']!='':\n",
    "            description += \" âgé de \" + str(row['Age']) + \" ans,\"\n",
    "        if row['Nationalité']!='':\n",
    "            description += \" de nationalité \" + row['Nationalité'] + \",\"\n",
    "        if row['Profession']!='':\n",
    "            description += \" exerçant la profession de \" + row['Profession'] + \",\"\n",
    "        if row['Relation']!='':\n",
    "            description += \" étant \" + row['Relation'] + \" du ménage,\"\n",
    "        if row['Ville']!='':\n",
    "            description += \" habitant à \" + row['Ville'] + \".\"\n",
    "        df.at[index, 'Description'] = description\n",
    "\n",
    "    return df\n",
    "\n",
    "# Appel de la fonction pour créer la nouvelle colonne\n",
    "df = create_description_column(df)"
   ]
  },
  {
   "cell_type": "code",
   "execution_count": 7,
   "metadata": {},
   "outputs": [
    {
     "data": {
      "text/html": [
       "<div>\n",
       "<style scoped>\n",
       "    .dataframe tbody tr th:only-of-type {\n",
       "        vertical-align: middle;\n",
       "    }\n",
       "\n",
       "    .dataframe tbody tr th {\n",
       "        vertical-align: top;\n",
       "    }\n",
       "\n",
       "    .dataframe thead th {\n",
       "        text-align: right;\n",
       "    }\n",
       "</style>\n",
       "<table border=\"1\" class=\"dataframe\">\n",
       "  <thead>\n",
       "    <tr style=\"text-align: right;\">\n",
       "      <th></th>\n",
       "      <th>Target</th>\n",
       "      <th>Nom</th>\n",
       "      <th>Prenom</th>\n",
       "      <th>Profession</th>\n",
       "      <th>Relation</th>\n",
       "      <th>Age</th>\n",
       "      <th>Année</th>\n",
       "      <th>Nationalité</th>\n",
       "      <th>Ville</th>\n",
       "      <th>Plus</th>\n",
       "      <th>Description</th>\n",
       "    </tr>\n",
       "  </thead>\n",
       "  <tbody>\n",
       "    <tr>\n",
       "      <th>0</th>\n",
       "      <td>False</td>\n",
       "      <td>Breton</td>\n",
       "      <td>Cyrille</td>\n",
       "      <td>menuisier</td>\n",
       "      <td>Garçon</td>\n",
       "      <td>25</td>\n",
       "      <td></td>\n",
       "      <td>française</td>\n",
       "      <td></td>\n",
       "      <td></td>\n",
       "      <td>La personne s'appelle Cyrille Breton, âgé de 2...</td>\n",
       "    </tr>\n",
       "    <tr>\n",
       "      <th>1</th>\n",
       "      <td>True</td>\n",
       "      <td>Ferazzi</td>\n",
       "      <td>Auguste</td>\n",
       "      <td>vitrier</td>\n",
       "      <td>Garçon</td>\n",
       "      <td>30</td>\n",
       "      <td></td>\n",
       "      <td>Piémontaise</td>\n",
       "      <td></td>\n",
       "      <td></td>\n",
       "      <td>La personne s'appelle Auguste Ferazzi, âgé de ...</td>\n",
       "    </tr>\n",
       "    <tr>\n",
       "      <th>2</th>\n",
       "      <td>True</td>\n",
       "      <td>Machol</td>\n",
       "      <td>Pierre</td>\n",
       "      <td>vitrier</td>\n",
       "      <td>Garçon</td>\n",
       "      <td>24</td>\n",
       "      <td></td>\n",
       "      <td>Piémontaise</td>\n",
       "      <td></td>\n",
       "      <td></td>\n",
       "      <td>La personne s'appelle Pierre Machol, âgé de 24...</td>\n",
       "    </tr>\n",
       "    <tr>\n",
       "      <th>3</th>\n",
       "      <td>True</td>\n",
       "      <td>Desbois</td>\n",
       "      <td>Alexandre</td>\n",
       "      <td>prop re</td>\n",
       "      <td>Homme marié</td>\n",
       "      <td>48</td>\n",
       "      <td></td>\n",
       "      <td>française</td>\n",
       "      <td></td>\n",
       "      <td></td>\n",
       "      <td>La personne s'appelle Alexandre Desbois, âgé d...</td>\n",
       "    </tr>\n",
       "    <tr>\n",
       "      <th>4</th>\n",
       "      <td>False</td>\n",
       "      <td>Vignat</td>\n",
       "      <td>Zélie</td>\n",
       "      <td>prop re</td>\n",
       "      <td>sa fe</td>\n",
       "      <td>30</td>\n",
       "      <td></td>\n",
       "      <td>française</td>\n",
       "      <td></td>\n",
       "      <td></td>\n",
       "      <td>La personne s'appelle Zélie Vignat, âgé de 30 ...</td>\n",
       "    </tr>\n",
       "  </tbody>\n",
       "</table>\n",
       "</div>"
      ],
      "text/plain": [
       "  Target      Nom     Prenom Profession     Relation Age Année  Nationalité  \\\n",
       "0  False   Breton    Cyrille  menuisier       Garçon  25          française   \n",
       "1   True  Ferazzi    Auguste    vitrier       Garçon  30        Piémontaise   \n",
       "2   True   Machol     Pierre    vitrier       Garçon  24        Piémontaise   \n",
       "3   True  Desbois  Alexandre    prop re  Homme marié  48          française   \n",
       "4  False   Vignat      Zélie    prop re        sa fe  30          française   \n",
       "\n",
       "  Ville Plus                                        Description  \n",
       "0             La personne s'appelle Cyrille Breton, âgé de 2...  \n",
       "1             La personne s'appelle Auguste Ferazzi, âgé de ...  \n",
       "2             La personne s'appelle Pierre Machol, âgé de 24...  \n",
       "3             La personne s'appelle Alexandre Desbois, âgé d...  \n",
       "4             La personne s'appelle Zélie Vignat, âgé de 30 ...  "
      ]
     },
     "execution_count": 7,
     "metadata": {},
     "output_type": "execute_result"
    }
   ],
   "source": [
    "df.head()"
   ]
  },
  {
   "cell_type": "code",
   "execution_count": 8,
   "metadata": {},
   "outputs": [],
   "source": [
    "# Diviser les données en ensembles d'entraînement et de test\n",
    "train_data, test_data = train_test_split(df, test_size=0.2, random_state=42)"
   ]
  },
  {
   "cell_type": "code",
   "execution_count": 9,
   "metadata": {},
   "outputs": [
    {
     "name": "stderr",
     "output_type": "stream",
     "text": [
      "Special tokens have been added in the vocabulary, make sure the associated word embeddings are fine-tuned or trained.\n",
      "Some weights of CamembertForSequenceClassification were not initialized from the model checkpoint at camembert-base and are newly initialized: ['classifier.dense.bias', 'classifier.dense.weight', 'classifier.out_proj.bias', 'classifier.out_proj.weight']\n",
      "You should probably TRAIN this model on a down-stream task to be able to use it for predictions and inference.\n"
     ]
    }
   ],
   "source": [
    "# Initialiser le tokenizer et le modèle\n",
    "tokenizer = CamembertTokenizer.from_pretrained('camembert-base')\n",
    "model = CamembertForSequenceClassification.from_pretrained('camembert-base', num_labels=2)"
   ]
  },
  {
   "cell_type": "code",
   "execution_count": 10,
   "metadata": {},
   "outputs": [],
   "source": [
    "# Créer notre jeu de données du modèle\n",
    "class CustomDataset(Dataset):\n",
    "    def __init__(self, data, tokenizer, max_length):\n",
    "        self.data = data\n",
    "        self.tokenizer = tokenizer\n",
    "        self.max_length = max_length\n",
    "\n",
    "    def __len__(self):\n",
    "        return len(self.data)\n",
    "\n",
    "    def __getitem__(self, idx):\n",
    "        text = self.data.iloc[idx]['Description']\n",
    "        label = self.data.iloc[idx]['Target']\n",
    "\n",
    "        encoding = self.tokenizer(text, padding='max_length', truncation=True, max_length=self.max_length, return_tensors='pt')\n",
    "        input_ids = encoding['input_ids'].squeeze()\n",
    "        attention_mask = encoding['attention_mask'].squeeze()\n",
    "\n",
    "        return {\n",
    "            'input_ids': input_ids,\n",
    "            'attention_mask': attention_mask,\n",
    "            'labels': torch.tensor(label, dtype=torch.long)\n",
    "        }"
   ]
  },
  {
   "cell_type": "code",
   "execution_count": 11,
   "metadata": {},
   "outputs": [],
   "source": [
    "# Prétraitement des données\n",
    "max_length = 128 \n",
    "train_dataset = CustomDataset(train_data[0:10000], tokenizer, max_length)\n",
    "test_dataset = CustomDataset(test_data, tokenizer, max_length)"
   ]
  },
  {
   "cell_type": "code",
   "execution_count": 12,
   "metadata": {},
   "outputs": [],
   "source": [
    "# Entraînement du modèle\n",
    "training_args = TrainingArguments(\n",
    "    output_dir='./output',\n",
    "    per_device_train_batch_size=8,\n",
    "    per_device_eval_batch_size=8,\n",
    "    num_train_epochs=3,\n",
    "    logging_dir='./logs',\n",
    "    logging_steps=10,\n",
    "    evaluation_strategy='epoch',\n",
    ")"
   ]
  },
  {
   "cell_type": "code",
   "execution_count": 13,
   "metadata": {},
   "outputs": [],
   "source": [
    "# Fonction pour calculer les métriques \n",
    "metric_name_list = ['accuracy', 'f1', 'precision', 'recall']\n",
    "\n",
    "def compute_metrics(pred):\n",
    "    labels = pred.label_ids\n",
    "    preds = pred.predictions.argmax(-1)\n",
    "    f1 = f1_score(labels, preds)\n",
    "    accuracy = accuracy_score(labels, preds)\n",
    "    precision = precision_score(labels, preds)\n",
    "    recall = recall_score(labels, preds)\n",
    "    \n",
    "    return {\n",
    "        'accuracy': accuracy,\n",
    "        'f1': f1,\n",
    "        'precision': precision,\n",
    "        'recall': recall\n",
    "    }"
   ]
  },
  {
   "cell_type": "code",
   "execution_count": 14,
   "metadata": {},
   "outputs": [],
   "source": [
    "# Entraînement du modèle avec les métriques \n",
    "trainer = Trainer(\n",
    "    model=model,\n",
    "    args=training_args,\n",
    "    train_dataset=train_dataset,\n",
    "    eval_dataset=test_dataset,\n",
    "    compute_metrics=compute_metrics\n",
    ")"
   ]
  },
  {
   "cell_type": "code",
   "execution_count": 15,
   "metadata": {},
   "outputs": [
    {
     "data": {
      "text/html": [
       "\n",
       "    <div>\n",
       "      \n",
       "      <progress value='3750' max='3750' style='width:300px; height:20px; vertical-align: middle;'></progress>\n",
       "      [3750/3750 50:58, Epoch 3/3]\n",
       "    </div>\n",
       "    <table border=\"1\" class=\"dataframe\">\n",
       "  <thead>\n",
       " <tr style=\"text-align: left;\">\n",
       "      <th>Epoch</th>\n",
       "      <th>Training Loss</th>\n",
       "      <th>Validation Loss</th>\n",
       "      <th>Accuracy</th>\n",
       "      <th>F1</th>\n",
       "      <th>Precision</th>\n",
       "      <th>Recall</th>\n",
       "    </tr>\n",
       "  </thead>\n",
       "  <tbody>\n",
       "    <tr>\n",
       "      <td>1</td>\n",
       "      <td>0.274900</td>\n",
       "      <td>0.176351</td>\n",
       "      <td>0.944468</td>\n",
       "      <td>0.875292</td>\n",
       "      <td>0.885633</td>\n",
       "      <td>0.865189</td>\n",
       "    </tr>\n",
       "    <tr>\n",
       "      <td>2</td>\n",
       "      <td>0.114300</td>\n",
       "      <td>0.148509</td>\n",
       "      <td>0.949875</td>\n",
       "      <td>0.890901</td>\n",
       "      <td>0.873890</td>\n",
       "      <td>0.908587</td>\n",
       "    </tr>\n",
       "    <tr>\n",
       "      <td>3</td>\n",
       "      <td>0.115300</td>\n",
       "      <td>0.177642</td>\n",
       "      <td>0.948419</td>\n",
       "      <td>0.888389</td>\n",
       "      <td>0.866550</td>\n",
       "      <td>0.911357</td>\n",
       "    </tr>\n",
       "  </tbody>\n",
       "</table><p>"
      ],
      "text/plain": [
       "<IPython.core.display.HTML object>"
      ]
     },
     "metadata": {},
     "output_type": "display_data"
    },
    {
     "data": {
      "text/plain": [
       "TrainOutput(global_step=3750, training_loss=0.1630631441195806, metrics={'train_runtime': 3060.1175, 'train_samples_per_second': 9.804, 'train_steps_per_second': 1.225, 'total_flos': 1973332915200000.0, 'train_loss': 0.1630631441195806, 'epoch': 3.0})"
      ]
     },
     "execution_count": 15,
     "metadata": {},
     "output_type": "execute_result"
    }
   ],
   "source": [
    "# Entrainer le modèle\n",
    "trainer.train()"
   ]
  },
  {
   "cell_type": "code",
   "execution_count": 16,
   "metadata": {},
   "outputs": [
    {
     "data": {
      "text/html": [
       "\n",
       "    <div>\n",
       "      \n",
       "      <progress value='601' max='601' style='width:300px; height:20px; vertical-align: middle;'></progress>\n",
       "      [601/601 01:47]\n",
       "    </div>\n",
       "    "
      ],
      "text/plain": [
       "<IPython.core.display.HTML object>"
      ]
     },
     "metadata": {},
     "output_type": "display_data"
    }
   ],
   "source": [
    "# Évaluation du modèle \n",
    "results = trainer.evaluate(eval_dataset=test_dataset)"
   ]
  },
  {
   "cell_type": "code",
   "execution_count": 17,
   "metadata": {},
   "outputs": [
    {
     "name": "stdout",
     "output_type": "stream",
     "text": [
      "Accuracy: 0.9484193011647255\n",
      "F1-score: 0.8883888388838884\n",
      "Precision: 0.8665496049165935\n",
      "Recall: 0.9113573407202216\n"
     ]
    }
   ],
   "source": [
    "print(\"Accuracy:\", results['eval_accuracy'])\n",
    "print(\"F1-score:\", results['eval_f1'])\n",
    "print(\"Precision:\", results['eval_precision'])\n",
    "print(\"Recall:\", results['eval_recall'])"
   ]
  }
 ],
 "metadata": {
  "kernelspec": {
   "display_name": "base",
   "language": "python",
   "name": "python3"
  },
  "language_info": {
   "codemirror_mode": {
    "name": "ipython",
    "version": 3
   },
   "file_extension": ".py",
   "mimetype": "text/x-python",
   "name": "python",
   "nbconvert_exporter": "python",
   "pygments_lexer": "ipython3",
   "version": "3.11.6"
  }
 },
 "nbformat": 4,
 "nbformat_minor": 2
}
